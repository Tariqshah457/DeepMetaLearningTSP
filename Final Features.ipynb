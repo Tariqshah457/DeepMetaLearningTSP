{
 "cells": [
  {
   "cell_type": "code",
   "execution_count": 1,
   "metadata": {},
   "outputs": [],
   "source": [
    "import glob, os, json\n",
    "import time\n",
    "import pickle\n",
    "import solver\n",
    "import traceback\n",
    "import signal\n",
    "import pandas as pd"
   ]
  },
  {
   "cell_type": "code",
   "execution_count": 2,
   "metadata": {},
   "outputs": [],
   "source": [
    "df = pd.read_pickle(\"../data/largefeatures/deep128large200noscaleReshaped.pickle\")"
   ]
  },
  {
   "cell_type": "code",
   "execution_count": 3,
   "metadata": {},
   "outputs": [],
   "source": [
    "# Select all generated instances (and ignore TSPLib)\n",
    "df = df.loc[df[\"generated\"] == True]"
   ]
  },
  {
   "cell_type": "code",
   "execution_count": 4,
   "metadata": {},
   "outputs": [],
   "source": [
    "def loadGeneratedInstance(name, path):\n",
    "    tspFile = open(path + \"/\" + name + \".pytsp\", \"rb\")\n",
    "    tsp = pickle.load(tspFile)\n",
    "#     name = os.path.basename(file)\n",
    "\n",
    "    if not tsp:\n",
    "        print(\"Invalid file at \" + name)\n",
    "        return None\n",
    "\n",
    "    tsp.setName(name)\n",
    "    tspFile.close()\n",
    "    \n",
    "    return tsp"
   ]
  },
  {
   "cell_type": "code",
   "execution_count": 5,
   "metadata": {},
   "outputs": [],
   "source": [
    "generatedPathA = \"../data/largegen\"\n",
    "generatedPathB = \"../data/largegen2\""
   ]
  },
  {
   "cell_type": "code",
   "execution_count": 6,
   "metadata": {},
   "outputs": [],
   "source": [
    "instances = []\n",
    "\n",
    "for name in df[\"name\"]:\n",
    "    path = generatedPathB\n",
    "    \n",
    "    if name.endswith(\"a\"):\n",
    "        path = generatedPathA\n",
    "        \n",
    "    instance = loadGeneratedInstance(name[:-1], path)\n",
    "    instance.setName(name)\n",
    "        \n",
    "    instances.append(instance)"
   ]
  },
  {
   "cell_type": "code",
   "execution_count": 7,
   "metadata": {},
   "outputs": [
    {
     "data": {
      "text/plain": [
       "2818"
      ]
     },
     "execution_count": 7,
     "metadata": {},
     "output_type": "execute_result"
    }
   ],
   "source": [
    "len(instances)"
   ]
  },
  {
   "cell_type": "code",
   "execution_count": 8,
   "metadata": {},
   "outputs": [],
   "source": [
    "fileObject = open(\"../data/large200.instances\", \"wb\")\n",
    "pickle.dump(instances, fileObject)\n",
    "fileObject.close()"
   ]
  },
  {
   "cell_type": "code",
   "execution_count": null,
   "metadata": {},
   "outputs": [],
   "source": []
  }
 ],
 "metadata": {
  "anaconda-cloud": {},
  "kernelspec": {
   "display_name": "Python [conda root]",
   "language": "python",
   "name": "conda-root-py"
  },
  "language_info": {
   "codemirror_mode": {
    "name": "ipython",
    "version": 3
   },
   "file_extension": ".py",
   "mimetype": "text/x-python",
   "name": "python",
   "nbconvert_exporter": "python",
   "pygments_lexer": "ipython3",
   "version": "3.5.4"
  }
 },
 "nbformat": 4,
 "nbformat_minor": 2
}
