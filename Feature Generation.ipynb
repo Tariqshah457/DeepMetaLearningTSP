{
 "cells": [
  {
   "cell_type": "code",
   "execution_count": 1,
   "metadata": {
    "collapsed": true
   },
   "outputs": [],
   "source": [
    "import glob, os, json\n",
    "import time\n",
    "import pickle\n",
    "import solver\n",
    "import traceback"
   ]
  },
  {
   "cell_type": "code",
   "execution_count": 14,
   "metadata": {
    "collapsed": true
   },
   "outputs": [],
   "source": [
    "tspLibPath = \"../data/tsplib/\"\n",
    "\n",
    "# Load TSP instances\n",
    "tspLibInstances = []\n",
    "tspInstanceNames = []\n",
    "for file in glob.glob(tspLibPath + \"*.tsp\"):\n",
    "    try:\n",
    "        tsp = solver.loadTSPLib(file)\n",
    "        tspLibInstances.append(tsp)\n",
    "        tspInstanceNames.append(os.path.basename(file))\n",
    "    except:\n",
    "        traceback.print_exc()"
   ]
  },
  {
   "cell_type": "code",
   "execution_count": 15,
   "metadata": {
    "collapsed": true
   },
   "outputs": [],
   "source": [
    "generatedPath = \"../data/generated/\"\n",
    "\n",
    "# Load TSP instances\n",
    "generatedInstances = []\n",
    "generatedInstanceNames = []\n",
    "for file in glob.glob(generatedPath + \"*.pytsp\"):\n",
    "    try:\n",
    "        tspFile = open(file, \"rb\")\n",
    "        tsp = pickle.load(tspFile)\n",
    "        generatedInstances.append(tsp)\n",
    "        generatedInstanceNames.append(os.path.basename(file))\n",
    "        tspFile.close()\n",
    "    except:\n",
    "        traceback.print_exc()"
   ]
  },
  {
   "cell_type": "code",
   "execution_count": 16,
   "metadata": {
    "collapsed": true
   },
   "outputs": [],
   "source": [
    "allInstances = tspLibInstances + generatedInstances\n",
    "allInstanceNames = tspInstanceNames + generatedInstanceNames"
   ]
  },
  {
   "cell_type": "code",
   "execution_count": 2,
   "metadata": {
    "collapsed": true
   },
   "outputs": [],
   "source": [
    "def measureFeature(name, deterministic, tsp, data, features, featureFunction, storeResult=True):\n",
    "    start = time.time()\n",
    "    value = featureFunction(tsp, data)\n",
    "    end = time.time()\n",
    "    \n",
    "    storedValue = value\n",
    "    if type(storedValue).__module__=='numpy': # if value is numpy.*: > to python list\n",
    "        storedValue = storedValue.tolist()\n",
    "    \n",
    "    if storeResult:\n",
    "        if deterministic:\n",
    "            features[name] = storedValue\n",
    "        else:\n",
    "            valueName = name + \"Values\"\n",
    "            if valueName not in features:\n",
    "                features[valueName] = []\n",
    "\n",
    "            features[valueName].append(storedValue)\n",
    "        \n",
    "    timeName = name + \"Times\"\n",
    "    \n",
    "    if timeName not in features:\n",
    "        features[timeName] = []\n",
    "    \n",
    "    features[timeName].append(end - start)\n",
    "    \n",
    "    return value"
   ]
  },
  {
   "cell_type": "code",
   "execution_count": 3,
   "metadata": {
    "collapsed": true
   },
   "outputs": [],
   "source": [
    "def stripNumpyDict(dictionary):\n",
    "    for key in dictionary:\n",
    "        value = dictionary[key]\n",
    "        if isinstance(value, dict):\n",
    "            stripNumpyDict(value)\n",
    "        if isinstance(value, list):\n",
    "            dictionary[key] = stripNumpyArray(value)\n",
    "        elif isinstance(value, numpy.ndarray):\n",
    "            dictionary[key] = stripNumpyArray(value.tolist())\n",
    "        elif type(value).__module__=='numpy': # if value is numpy.*: > to python list\n",
    "            dictionary[key] = value.item()\n",
    "            \n",
    "def stripNumpyArray(array):\n",
    "    newArray = []\n",
    "    for item in array:\n",
    "        if isinstance(item, list):\n",
    "            newArray.append(stripNumpyArray(item))\n",
    "        elif isinstance(item, numpy.ndarray):\n",
    "            newArray.append(stripNumpyArray(item.tolist()))\n",
    "        elif type(item).__module__=='numpy': # if value is numpy.*: > to python list\n",
    "            newArray.append(item.item())\n",
    "        else:\n",
    "            newArray.append(item)\n",
    "            \n",
    "    return newArray"
   ]
  },
  {
   "cell_type": "code",
   "execution_count": 9,
   "metadata": {
    "collapsed": true
   },
   "outputs": [],
   "source": [
    "from network.features import *\n",
    "from network.simpleFeatures import *\n",
    "from network.complexFeatures import *\n",
    "from network.heuristicFeatures import *\n",
    "import json\n",
    "\n",
    "nLowestEdgeCosts = 10\n",
    "nGeneratedSolutions = 100\n",
    "\n",
    "def generateSimpleFeatures(tsp, features, n):\n",
    "    simple = {}\n",
    "    for i in range(n):\n",
    "        print(\"Starting Simple Features %d\" % (i + 1))\n",
    "        measureFeature(\"numberVertices\", True, tsp, None, simple, lambda tsp, _: numberVertices(tsp))\n",
    "        \n",
    "        vertexCosts = measureFeature(\"vertexCostPrep\", True, tsp, None, simple, lambda tsp, _: buildVertexCosts(tsp), False)\n",
    "        data = {\"vertexCosts\": vertexCosts}\n",
    "        measureFeature(\"lowestVertexCost\", True, tsp, data, simple, lambda _, data: lowestVertexCost(data[\"vertexCosts\"]))\n",
    "        measureFeature(\"highestVertexCost\", True, tsp, data, simple, lambda _, data: highestVertexCost(data[\"vertexCosts\"]))\n",
    "        measureFeature(\"averageVertexCost\", True, tsp, data, simple, lambda _, data: averageVertexCost(data[\"vertexCosts\"]))\n",
    "        measureFeature(\"standardDeviationVertexCost\", True, tsp, data, simple, lambda _, data: standardDeviationVertexCost(data[\"vertexCosts\"]))\n",
    "        measureFeature(\"medianVertexCost\", True, tsp, data, simple, lambda _, data: medianVertexCost(data[\"vertexCosts\"]))\n",
    "        \n",
    "        measureFeature(\"sumCostNearestNeighbor\", True, tsp, None, simple, lambda tsp, _: sumCostNearestNeighbor(tsp))\n",
    "        measureFeature(\"numberEdges\", True, tsp, None, simple, lambda tsp, _: numberEdges(tsp))\n",
    "        measureFeature(\"lowestEdgeCost\", True, tsp, None, simple, lambda tsp, _: lowestEdgeCost(tsp))\n",
    "        measureFeature(\"highestEdgeCost\", True, tsp, None, simple, lambda tsp, _: highestEdgeCost(tsp))\n",
    "        measureFeature(\"averageEdgeCost\", True, tsp, None, simple, lambda tsp, _: averageEdgeCost(tsp))\n",
    "        measureFeature(\"standardDeviationEdgeCost\", True, tsp, None, simple, lambda tsp, _: standardDeviationEdgeCost(tsp))\n",
    "        measureFeature(\"medianEdgeCost\", True, tsp, None, simple, lambda tsp, _: medianEdgeCost(tsp))\n",
    "        measureFeature(\"sumNLowestEdgeCost\", True, tsp, None, simple, lambda tsp, _: sumNLowestEdgeCost(tsp, nLowestEdgeCosts))\n",
    "        \n",
    "        print(\"Ending Simple Features %d\" % (i + 1))\n",
    "        \n",
    "    features[\"simpleFeatures\"] = simple\n",
    "    \n",
    "def generateComplexFeatures(tsp, features, n):\n",
    "    complexFeatures = {}\n",
    "    for i in range(n):\n",
    "        print(\"Starting Complex Features %d\" % (i + 1))\n",
    "        measureFeature(\"averageShortestPathGeodesicDistance\", True, tsp, None, complexFeatures, lambda tsp, _: averageShortestPathGeodesicDistance(tsp))\n",
    "        measureFeature(\"averageGeodesicDistance\", True, tsp, None, complexFeatures, lambda tsp, _: averageGeodesicDistance(tsp))\n",
    "        \n",
    "        globalEfficiencyValue = measureFeature(\"globalEfficiency\", True, tsp, None, complexFeatures, lambda tsp, _: globalEfficiency(tsp))\n",
    "        data = {\"globalEfficiency\": globalEfficiencyValue}\n",
    "        measureFeature(\"harmonicMeanGeodesicDistance\", True, tsp, None, complexFeatures, lambda tsp, _: harmonicMeanGeodesicDistance(tsp))\n",
    "        \n",
    "        measureFeature(\"networkVulnerability\", True, tsp, data, complexFeatures, lambda tsp, data: networkVulnerability(tsp, data[\"globalEfficiency\"]))\n",
    "        \n",
    "        measureFeature(\"clusteringCoefficientTransitivity\", True, tsp, None, complexFeatures, lambda tsp, _: clusteringCoefficientTransitivity(tsp))\n",
    "        measureFeature(\"alternateClusteringCoefficient\", True, tsp, None, complexFeatures, lambda tsp, _: alternateClusteringCoefficient(tsp))\n",
    "        \n",
    "        connectedEdgeCountsValue = measureFeature(\"connectedEdgeCountsPrep\", True, tsp, None, complexFeatures, lambda tsp, _: connectedEdgeCounts(tsp), False)\n",
    "        data = {\"connectedEdgeCounts\": connectedEdgeCountsValue}\n",
    "        measureFeature(\"weightedClusteringCoefficient\", True, tsp, data, complexFeatures, lambda tsp, data: weightedClusteringCoefficient(tsp, data[\"connectedEdgeCounts\"]))\n",
    "        measureFeature(\"networkCyclicCoefficient\", True, tsp, data, complexFeatures, lambda tsp, data: networkCyclicCoefficient(tsp, data[\"connectedEdgeCounts\"]))\n",
    "        measureFeature(\"maxVertexDegree\", True, tsp, data, complexFeatures, lambda _, data: maxVertexDegree(data[\"connectedEdgeCounts\"]))\n",
    "        measureFeature(\"edgeDegreeCorrelation\", True, tsp, data, complexFeatures, lambda tsp, data: edgeDegreeCorrelation(tsp, data[\"connectedEdgeCounts\"]))\n",
    "        \n",
    "        measureFeature(\"entropyDegreeDistribution\", True, tsp, None, complexFeatures, lambda tsp, _: entropyDegreeDistribution(tsp))\n",
    "        measureFeature(\"targetEntropy\", True, tsp, None, complexFeatures, lambda tsp, _: targetEntropy(tsp))\n",
    "        measureFeature(\"vertexParticipationCoefficient\", True, tsp, None, complexFeatures, lambda tsp, _: vertexParticipationCoefficient(tsp))\n",
    "        measureFeature(\"edgeReciprocity\", True, tsp, None, complexFeatures, lambda tsp, _: edgeReciprocity(tsp))\n",
    "        measureFeature(\"adjacencyCorrelationCoefficient\", True, tsp, None, complexFeatures, lambda tsp, _: adjacencyCorrelationCoefficient(tsp))\n",
    "        \n",
    "        print(\"Ending Complex Features %d\" % (i + 1))\n",
    "        \n",
    "    features[\"complexFeatures\"] = complexFeatures\n",
    "    \n",
    "def generateHeuristicFeatures(tsp, features, n):\n",
    "    heuristicFeatures = {}\n",
    "    for i in range(n):\n",
    "        print(\"Starting Heuristic Features %d\" % (i + 1))\n",
    "        \n",
    "        random = measureFeature(\"randomSolutionsPrep\", False, tsp, None, heuristicFeatures, lambda tsp, _: randomSolutions(tsp, nGeneratedSolutions), False)\n",
    "        data = {\"randomSolutions\": random}\n",
    "        randomNeighbor = measureFeature(\"randomNeighborSolutionsPrep\", False, tsp, data, heuristicFeatures, lambda tsp, data: list(map(lambda solution: neighborSolutions(tsp, solution, nGeneratedSolutions), data[\"randomSolutions\"])), False)\n",
    "        \n",
    "        # Remove most of randomNeighbors from features\n",
    "        # heuristicFeatures[\"randomNeighborSolutionsPrep\"] = heuristicFeatures[\"randomNeighborSolutionsPrep\"][:min(5, nGeneratedSolutions)]\n",
    "        \n",
    "        data = {\"randomSolutions\": random, \"randomNeighborSolutions\": randomNeighbor}\n",
    "        measureFeature(\"proportionsNeighborsWithBetterSolution\", False, tsp, data, heuristicFeatures, lambda tsp, data: proportionsNeighborsWithBetterSolution(tsp, data[\"randomSolutions\"], data[\"randomNeighborSolutions\"]))\n",
    "        measureFeature(\"averageRatioNeighborsWithBetterSolution\", False, tsp, data, heuristicFeatures, lambda tsp, data: averageRatioNeighborsWithBetterSolution(tsp, data[\"randomSolutions\"], data[\"randomNeighborSolutions\"]))\n",
    "        measureFeature(\"randomNeighborSolutionQuality\", False, tsp, data, heuristicFeatures, lambda tsp, data: randomNeighborSolutionQuality(tsp, data[\"randomSolutions\"], data[\"randomNeighborSolutions\"]))\n",
    "        \n",
    "        greedy = measureFeature(\"greedySolutionsPrep\", False, tsp, None, heuristicFeatures, lambda tsp, _: greedySolutions(tsp, nGeneratedSolutions), False)\n",
    "        data = {\"randomSolutions\": random, \"greedySolutions\": greedy}\n",
    "        measureFeature(\"greedySolutionQuality\", False, tsp, data, heuristicFeatures, lambda tsp, data: greedySolutionQuality(tsp, data[\"randomSolutions\"], data[\"greedySolutions\"]))\n",
    "        measureFeature(\"averageRatioGreedySolution\", False, tsp, data, heuristicFeatures, lambda tsp, data: averageRatioGreedySolution(tsp, data[\"randomSolutions\"], data[\"greedySolutions\"]))\n",
    "        \n",
    "        parents = measureFeature(\"parentSolutionPairsPrep\", False, tsp, data, heuristicFeatures, lambda tsp, data: solutionPairs(tsp, data[\"randomSolutions\"], nGeneratedSolutions), False)\n",
    "        data = {\"parentSolutionPairs\": parents}\n",
    "        children = measureFeature(\"childrenSolutionPairsPrep\", False, tsp, data, heuristicFeatures, lambda tsp, data: childrenSolutionPairs(tsp, data[\"parentSolutionPairs\"]), False)\n",
    "        \n",
    "        data = {\"parentSolutionPairs\": parents, \"childrenSolutionPairs\": children}\n",
    "        measureFeature(\"proportionOffspringBetterSolution\", False, tsp, data, heuristicFeatures, lambda tsp, data: proportionOffspringBetterSolution(tsp, data[\"parentSolutionPairs\"], data[\"childrenSolutionPairs\"]))\n",
    "        measureFeature(\"averageRatioOffspringBetterSolution\", False, tsp, data, heuristicFeatures, lambda tsp, data: averageRatioOffspringBetterSolution(tsp, data[\"parentSolutionPairs\"], data[\"childrenSolutionPairs\"]))\n",
    "        measureFeature(\"averageTimesOffspringBetterSolution\", False, tsp, data, heuristicFeatures, lambda tsp, data: averageTimesOffspringBetterSolution(tsp, data[\"parentSolutionPairs\"], data[\"childrenSolutionPairs\"]))\n",
    "        \n",
    "        data = {\"greedySolutions\": greedy}\n",
    "        greedyEdges = measureFeature(\"greedyEdgesPrep\", False, tsp, data, heuristicFeatures, lambda tsp, data: edges(tsp, data[\"greedySolutions\"]), False)\n",
    "        data = {\"greedyEdges\": greedyEdges}\n",
    "        measureFeature(\"averageSharedEdges\", False, tsp, data, heuristicFeatures, lambda tsp, data: averageSharedEdges(tsp, data[\"greedyEdges\"]))\n",
    "        measureFeature(\"relativeFrequencyCommonGreedyEdge\", False, tsp, data, heuristicFeatures, lambda tsp, data: relativeFrequencyCommonGreedyEdge(tsp, data[\"greedyEdges\"]))\n",
    "        \n",
    "        print(\"Ending Heuristic Features %d\" % (i + 1))\n",
    "        \n",
    "    features[\"heuristicFeatures\"] = heuristicFeatures\n",
    "        \n",
    "def generateFeatures(tsp, filename, n):\n",
    "    features = {}\n",
    "    \n",
    "    generateSimpleFeatures(tsp, features, n)\n",
    "    generateComplexFeatures(tsp, features, n)\n",
    "    generateHeuristicFeatures(tsp, features, n)\n",
    "    \n",
    "    stripNumpyDict(features)\n",
    "    \n",
    "    print(\"Writing File %s\" % (filename))\n",
    "    \n",
    "    with open(filename, \"w\") as file:\n",
    "        json.dump(features, file, indent=\"\\t\")\n",
    "        \n",
    "    print(\"Finished writting\")\n"
   ]
  },
  {
   "cell_type": "code",
   "execution_count": 41,
   "metadata": {},
   "outputs": [
    {
     "ename": "NameError",
     "evalue": "name 'allInstanceNames' is not defined",
     "output_type": "error",
     "traceback": [
      "\u001b[0;31m---------------------------------------------------------------------------\u001b[0m",
      "\u001b[0;31mNameError\u001b[0m                                 Traceback (most recent call last)",
      "\u001b[0;32m<ipython-input-41-32345fb151d5>\u001b[0m in \u001b[0;36m<module>\u001b[0;34m()\u001b[0m\n\u001b[0;32m----> 1\u001b[0;31m \u001b[0mallInstanceNames\u001b[0m\u001b[0;34m\u001b[0m\u001b[0m\n\u001b[0m",
      "\u001b[0;31mNameError\u001b[0m: name 'allInstanceNames' is not defined"
     ]
    }
   ],
   "source": [
    "allInstanceNames"
   ]
  },
  {
   "cell_type": "code",
   "execution_count": 5,
   "metadata": {
    "collapsed": true
   },
   "outputs": [],
   "source": [
    "tsp = solver.loadTSPLib(\"/Users/adam/Documents/Rose Repos/Thesis/data/tsplib/ch130.tsp\")"
   ]
  },
  {
   "cell_type": "code",
   "execution_count": null,
   "metadata": {},
   "outputs": [
    {
     "name": "stdout",
     "output_type": "stream",
     "text": [
      "Starting Simple Features 1\n",
      "Ending Simple Features 1\n",
      "Starting Simple Features 2\n",
      "Ending Simple Features 2\n",
      "Starting Simple Features 3\n",
      "Ending Simple Features 3\n",
      "Starting Simple Features 4\n",
      "Ending Simple Features 4\n",
      "Starting Simple Features 5\n",
      "Ending Simple Features 5\n",
      "Starting Complex Features 1\n",
      "Ending Complex Features 1\n",
      "Starting Complex Features 2\n",
      "Ending Complex Features 2\n",
      "Starting Complex Features 3\n",
      "Ending Complex Features 3\n",
      "Starting Complex Features 4\n",
      "Ending Complex Features 4\n",
      "Starting Complex Features 5\n",
      "Ending Complex Features 5\n",
      "Starting Heuristic Features 1\n",
      "Ending Heuristic Features 1\n",
      "Starting Heuristic Features 2\n",
      "Ending Heuristic Features 2\n",
      "Starting Heuristic Features 3\n",
      "Ending Heuristic Features 3\n",
      "Starting Heuristic Features 4\n",
      "Ending Heuristic Features 4\n",
      "Starting Heuristic Features 5\n"
     ]
    }
   ],
   "source": [
    "features = {}\n",
    "generateFeatures(tsp, \"../data/features/tsplib/ch130.json\", 5)\n",
    "# generateHeuristicFeatures(tsp, features, 1)"
   ]
  },
  {
   "cell_type": "code",
   "execution_count": 7,
   "metadata": {},
   "outputs": [],
   "source": [
    "stripNumpyDict(features)\n",
    "\n",
    "with open(\"test.json\", \"w\") as file:\n",
    "    json.dump(features, file, indent=\"\\t\")"
   ]
  }
 ],
 "metadata": {
  "kernelspec": {
   "display_name": "Python 3",
   "language": "python",
   "name": "python3"
  },
  "language_info": {
   "codemirror_mode": {
    "name": "ipython",
    "version": 3
   },
   "file_extension": ".py",
   "mimetype": "text/x-python",
   "name": "python",
   "nbconvert_exporter": "python",
   "pygments_lexer": "ipython3",
   "version": "3.6.2"
  }
 },
 "nbformat": 4,
 "nbformat_minor": 2
}
