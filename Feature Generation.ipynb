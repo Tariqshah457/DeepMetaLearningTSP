{
 "cells": [
  {
   "cell_type": "code",
   "execution_count": 1,
   "metadata": {
    "collapsed": true
   },
   "outputs": [],
   "source": [
    "import glob, os, json\n",
    "import time\n",
    "import pickle\n",
    "import solver\n",
    "import traceback"
   ]
  },
  {
   "cell_type": "code",
   "execution_count": 2,
   "metadata": {},
   "outputs": [],
   "source": [
    "tspLibPath = \"../data/tsplib/\"\n",
    "\n",
    "# Load TSP instances\n",
    "tspLibInstances = []\n",
    "tspLibInstanceNames = []\n",
    "for file in glob.glob(tspLibPath + \"*.tsp\"):\n",
    "    try:\n",
    "        tsp = solver.loadTSPLib(file)\n",
    "        tspLibInstances.append(tsp)\n",
    "        tspLibInstanceNames.append(os.path.basename(file))\n",
    "    except:\n",
    "        traceback.print_exc()"
   ]
  },
  {
   "cell_type": "code",
   "execution_count": 3,
   "metadata": {
    "collapsed": true
   },
   "outputs": [],
   "source": [
    "generatedPath = \"../data/generated/\"\n",
    "\n",
    "# Load TSP instances\n",
    "generatedInstances = []\n",
    "generatedInstanceNames = []\n",
    "for file in glob.glob(generatedPath + \"*.pytsp\"):\n",
    "    try:\n",
    "        tspFile = open(file, \"rb\")\n",
    "        tsp = pickle.load(tspFile)\n",
    "        generatedInstances.append(tsp)\n",
    "        generatedInstanceNames.append(os.path.basename(file))\n",
    "        tspFile.close()\n",
    "    except:\n",
    "        traceback.print_exc()"
   ]
  },
  {
   "cell_type": "code",
   "execution_count": 4,
   "metadata": {
    "collapsed": true
   },
   "outputs": [],
   "source": [
    "def measureFeature(name, deterministic, tsp, data, features, featureFunction, storeResult=True):\n",
    "    start = time.time()\n",
    "    value = featureFunction(tsp, data)\n",
    "    end = time.time()\n",
    "    \n",
    "    storedValue = value\n",
    "    if type(storedValue).__module__=='numpy': # if value is numpy.*: > to python list\n",
    "        storedValue = storedValue.tolist()\n",
    "    \n",
    "    if storeResult:\n",
    "        if deterministic:\n",
    "            features[name] = storedValue\n",
    "        else:\n",
    "            valueName = name + \"Values\"\n",
    "            if valueName not in features:\n",
    "                features[valueName] = []\n",
    "\n",
    "            features[valueName].append(storedValue)\n",
    "        \n",
    "    timeName = name + \"Times\"\n",
    "    \n",
    "    if timeName not in features:\n",
    "        features[timeName] = []\n",
    "    \n",
    "    features[timeName].append(end - start)\n",
    "    \n",
    "    return value"
   ]
  },
  {
   "cell_type": "code",
   "execution_count": 5,
   "metadata": {
    "collapsed": true
   },
   "outputs": [],
   "source": [
    "def stripNumpyDict(dictionary):\n",
    "    print(\"Strip dictionary\")\n",
    "    for key in dictionary:\n",
    "        value = dictionary[key]\n",
    "        if isinstance(value, dict):\n",
    "            stripNumpyDict(value)\n",
    "        if isinstance(value, list):\n",
    "            dictionary[key] = stripNumpyArray(value)\n",
    "        elif isinstance(value, numpy.ndarray):\n",
    "            dictionary[key] = stripNumpyArray(value.tolist())\n",
    "        elif type(value).__module__=='numpy': # if value is numpy.*: > to python list\n",
    "            dictionary[key] = value.item()\n",
    "            \n",
    "def stripNumpyArray(array):\n",
    "    print(\"Strip array\")\n",
    "    newArray = []\n",
    "    for item in array:\n",
    "        if isinstance(item, list):\n",
    "            newArray.append(stripNumpyArray(item))\n",
    "        elif isinstance(item, numpy.ndarray):\n",
    "            newArray.append(stripNumpyArray(item.tolist()))\n",
    "        elif type(item).__module__=='numpy': # if value is numpy.*: > to python list\n",
    "            newArray.append(item.item())\n",
    "        else:\n",
    "            newArray.append(item)\n",
    "            \n",
    "    return newArray"
   ]
  },
  {
   "cell_type": "code",
   "execution_count": 6,
   "metadata": {},
   "outputs": [],
   "source": [
    "from network.features import *\n",
    "from network.simpleFeatures import *\n",
    "from network.complexFeatures import *\n",
    "from network.heuristicFeatures import *\n",
    "import json\n",
    "\n",
    "nLowestEdgeCosts = 10\n",
    "nGeneratedSolutions = 100\n",
    "\n",
    "def generateSimpleFeatures(tsp, features, n):\n",
    "    simple = {}\n",
    "    for i in range(n):\n",
    "        print(\"Starting Simple Features %d\" % (i + 1))\n",
    "        measureFeature(\"numberVertices\", True, tsp, None, simple, lambda tsp, _: numberVertices(tsp))\n",
    "        \n",
    "        vertexCosts = measureFeature(\"vertexCostPrep\", True, tsp, None, simple, lambda tsp, _: buildVertexCosts(tsp), False)\n",
    "        data = {\"vertexCosts\": vertexCosts}\n",
    "        measureFeature(\"lowestVertexCost\", True, tsp, data, simple, lambda _, data: lowestVertexCost(data[\"vertexCosts\"]))\n",
    "        measureFeature(\"highestVertexCost\", True, tsp, data, simple, lambda _, data: highestVertexCost(data[\"vertexCosts\"]))\n",
    "        measureFeature(\"averageVertexCost\", True, tsp, data, simple, lambda _, data: averageVertexCost(data[\"vertexCosts\"]))\n",
    "        measureFeature(\"standardDeviationVertexCost\", True, tsp, data, simple, lambda _, data: standardDeviationVertexCost(data[\"vertexCosts\"]))\n",
    "        measureFeature(\"medianVertexCost\", True, tsp, data, simple, lambda _, data: medianVertexCost(data[\"vertexCosts\"]))\n",
    "        \n",
    "        measureFeature(\"sumCostNearestNeighbor\", True, tsp, None, simple, lambda tsp, _: sumCostNearestNeighbor(tsp))\n",
    "        measureFeature(\"numberEdges\", True, tsp, None, simple, lambda tsp, _: numberEdges(tsp))\n",
    "        measureFeature(\"lowestEdgeCost\", True, tsp, None, simple, lambda tsp, _: lowestEdgeCost(tsp))\n",
    "        measureFeature(\"highestEdgeCost\", True, tsp, None, simple, lambda tsp, _: highestEdgeCost(tsp))\n",
    "        measureFeature(\"averageEdgeCost\", True, tsp, None, simple, lambda tsp, _: averageEdgeCost(tsp))\n",
    "        measureFeature(\"standardDeviationEdgeCost\", True, tsp, None, simple, lambda tsp, _: standardDeviationEdgeCost(tsp))\n",
    "        measureFeature(\"medianEdgeCost\", True, tsp, None, simple, lambda tsp, _: medianEdgeCost(tsp))\n",
    "        measureFeature(\"sumNLowestEdgeCost\", True, tsp, None, simple, lambda tsp, _: sumNLowestEdgeCost(tsp, nLowestEdgeCosts))\n",
    "        \n",
    "        print(\"Ending Simple Features %d\" % (i + 1))\n",
    "        \n",
    "    features[\"simpleFeatures\"] = simple\n",
    "    \n",
    "def generateComplexFeatures(tsp, features, n):\n",
    "    complexFeatures = {}\n",
    "    for i in range(n):\n",
    "        print(\"Starting Complex Features %d\" % (i + 1))\n",
    "        measureFeature(\"averageShortestPathGeodesicDistance\", True, tsp, None, complexFeatures, lambda tsp, _: averageShortestPathGeodesicDistance(tsp))\n",
    "        measureFeature(\"averageGeodesicDistance\", True, tsp, None, complexFeatures, lambda tsp, _: averageGeodesicDistance(tsp))\n",
    "        \n",
    "        globalEfficiencyValue = measureFeature(\"globalEfficiency\", True, tsp, None, complexFeatures, lambda tsp, _: globalEfficiency(tsp))\n",
    "        data = {\"globalEfficiency\": globalEfficiencyValue}\n",
    "        measureFeature(\"harmonicMeanGeodesicDistance\", True, tsp, None, complexFeatures, lambda tsp, _: harmonicMeanGeodesicDistance(tsp))\n",
    "        \n",
    "        measureFeature(\"networkVulnerability\", True, tsp, data, complexFeatures, lambda tsp, data: networkVulnerability(tsp, data[\"globalEfficiency\"]))\n",
    "        \n",
    "        measureFeature(\"clusteringCoefficientTransitivity\", True, tsp, None, complexFeatures, lambda tsp, _: clusteringCoefficientTransitivity(tsp))\n",
    "        measureFeature(\"alternateClusteringCoefficient\", True, tsp, None, complexFeatures, lambda tsp, _: alternateClusteringCoefficient(tsp))\n",
    "        \n",
    "        connectedEdgeCountsValue = measureFeature(\"connectedEdgeCountsPrep\", True, tsp, None, complexFeatures, lambda tsp, _: connectedEdgeCounts(tsp), False)\n",
    "        data = {\"connectedEdgeCounts\": connectedEdgeCountsValue}\n",
    "        measureFeature(\"weightedClusteringCoefficient\", True, tsp, data, complexFeatures, lambda tsp, data: weightedClusteringCoefficient(tsp, data[\"connectedEdgeCounts\"]))\n",
    "        measureFeature(\"networkCyclicCoefficient\", True, tsp, data, complexFeatures, lambda tsp, data: networkCyclicCoefficient(tsp, data[\"connectedEdgeCounts\"]))\n",
    "        measureFeature(\"maxVertexDegree\", True, tsp, data, complexFeatures, lambda _, data: maxVertexDegree(data[\"connectedEdgeCounts\"]))\n",
    "        measureFeature(\"edgeDegreeCorrelation\", True, tsp, data, complexFeatures, lambda tsp, data: edgeDegreeCorrelation(tsp, data[\"connectedEdgeCounts\"]))\n",
    "        \n",
    "        measureFeature(\"entropyDegreeDistribution\", True, tsp, None, complexFeatures, lambda tsp, _: entropyDegreeDistribution(tsp))\n",
    "        measureFeature(\"targetEntropy\", True, tsp, None, complexFeatures, lambda tsp, _: targetEntropy(tsp))\n",
    "        measureFeature(\"vertexParticipationCoefficient\", True, tsp, None, complexFeatures, lambda tsp, _: vertexParticipationCoefficient(tsp))\n",
    "        measureFeature(\"edgeReciprocity\", True, tsp, None, complexFeatures, lambda tsp, _: edgeReciprocity(tsp))\n",
    "        measureFeature(\"adjacencyCorrelationCoefficient\", True, tsp, None, complexFeatures, lambda tsp, _: adjacencyCorrelationCoefficient(tsp))\n",
    "        \n",
    "        print(\"Ending Complex Features %d\" % (i + 1))\n",
    "        \n",
    "    features[\"complexFeatures\"] = complexFeatures\n",
    "    \n",
    "def generateHeuristicFeatures(tsp, features, n):\n",
    "    heuristicFeatures = {}\n",
    "    for i in range(n):\n",
    "        print(\"Starting Heuristic Features %d\" % (i + 1))\n",
    "        \n",
    "        random = measureFeature(\"randomSolutionsPrep\", False, tsp, None, heuristicFeatures, lambda tsp, _: randomSolutions(tsp, nGeneratedSolutions), False)\n",
    "        data = {\"randomSolutions\": random}\n",
    "        randomNeighbor = measureFeature(\"randomNeighborSolutionsPrep\", False, tsp, data, heuristicFeatures, lambda tsp, data: list(map(lambda solution: neighborSolutions(tsp, solution, nGeneratedSolutions), data[\"randomSolutions\"])), False)\n",
    "        \n",
    "        # Remove most of randomNeighbors from features\n",
    "        # heuristicFeatures[\"randomNeighborSolutionsPrep\"] = heuristicFeatures[\"randomNeighborSolutionsPrep\"][:min(5, nGeneratedSolutions)]\n",
    "        \n",
    "        data = {\"randomSolutions\": random, \"randomNeighborSolutions\": randomNeighbor}\n",
    "        measureFeature(\"proportionsNeighborsWithBetterSolution\", False, tsp, data, heuristicFeatures, lambda tsp, data: proportionsNeighborsWithBetterSolution(tsp, data[\"randomSolutions\"], data[\"randomNeighborSolutions\"]))\n",
    "        measureFeature(\"averageRatioNeighborsWithBetterSolution\", False, tsp, data, heuristicFeatures, lambda tsp, data: averageRatioNeighborsWithBetterSolution(tsp, data[\"randomSolutions\"], data[\"randomNeighborSolutions\"]))\n",
    "        measureFeature(\"randomNeighborSolutionQuality\", False, tsp, data, heuristicFeatures, lambda tsp, data: randomNeighborSolutionQuality(tsp, data[\"randomSolutions\"], data[\"randomNeighborSolutions\"]))\n",
    "        \n",
    "        greedy = measureFeature(\"greedySolutionsPrep\", False, tsp, None, heuristicFeatures, lambda tsp, _: greedySolutions(tsp, nGeneratedSolutions), False)\n",
    "        data = {\"randomSolutions\": random, \"greedySolutions\": greedy}\n",
    "        measureFeature(\"greedySolutionQuality\", False, tsp, data, heuristicFeatures, lambda tsp, data: greedySolutionQuality(tsp, data[\"randomSolutions\"], data[\"greedySolutions\"]))\n",
    "        measureFeature(\"averageRatioGreedySolution\", False, tsp, data, heuristicFeatures, lambda tsp, data: averageRatioGreedySolution(tsp, data[\"randomSolutions\"], data[\"greedySolutions\"]))\n",
    "        \n",
    "        parents = measureFeature(\"parentSolutionPairsPrep\", False, tsp, data, heuristicFeatures, lambda tsp, data: solutionPairs(tsp, data[\"randomSolutions\"], nGeneratedSolutions), False)\n",
    "        data = {\"parentSolutionPairs\": parents}\n",
    "        children = measureFeature(\"childrenSolutionPairsPrep\", False, tsp, data, heuristicFeatures, lambda tsp, data: childrenSolutionPairs(tsp, data[\"parentSolutionPairs\"]), False)\n",
    "        \n",
    "        data = {\"parentSolutionPairs\": parents, \"childrenSolutionPairs\": children}\n",
    "        measureFeature(\"proportionOffspringBetterSolution\", False, tsp, data, heuristicFeatures, lambda tsp, data: proportionOffspringBetterSolution(tsp, data[\"parentSolutionPairs\"], data[\"childrenSolutionPairs\"]))\n",
    "        measureFeature(\"averageRatioOffspringBetterSolution\", False, tsp, data, heuristicFeatures, lambda tsp, data: averageRatioOffspringBetterSolution(tsp, data[\"parentSolutionPairs\"], data[\"childrenSolutionPairs\"]))\n",
    "        measureFeature(\"averageTimesOffspringBetterSolution\", False, tsp, data, heuristicFeatures, lambda tsp, data: averageTimesOffspringBetterSolution(tsp, data[\"parentSolutionPairs\"], data[\"childrenSolutionPairs\"]))\n",
    "        \n",
    "        data = {\"greedySolutions\": greedy}\n",
    "        greedyEdges = measureFeature(\"greedyEdgesPrep\", False, tsp, data, heuristicFeatures, lambda tsp, data: edges(tsp, data[\"greedySolutions\"]), False)\n",
    "        data = {\"greedyEdges\": greedyEdges}\n",
    "        measureFeature(\"averageSharedEdges\", False, tsp, data, heuristicFeatures, lambda tsp, data: averageSharedEdges(tsp, data[\"greedyEdges\"]))\n",
    "        measureFeature(\"relativeFrequencyCommonGreedyEdge\", False, tsp, data, heuristicFeatures, lambda tsp, data: relativeFrequencyCommonGreedyEdge(tsp, data[\"greedyEdges\"]))\n",
    "        \n",
    "        print(\"Ending Heuristic Features %d\" % (i + 1))\n",
    "        \n",
    "    features[\"heuristicFeatures\"] = heuristicFeatures\n",
    "        \n",
    "def generateFeatures(tsp, features, n):\n",
    "    generateSimpleFeatures(tsp, features, n)\n",
    "    generateComplexFeatures(tsp, features, n)\n",
    "    generateHeuristicFeatures(tsp, features, n)"
   ]
  },
  {
   "cell_type": "code",
   "execution_count": 7,
   "metadata": {
    "collapsed": true
   },
   "outputs": [],
   "source": [
    "from solver.utilities import calculateCost\n",
    "\n",
    "def measureHeuristicCost(name, tsp, features):\n",
    "    valueName = name + \"Values\"\n",
    "    if valueName in features:\n",
    "        latestTour = features[valueName][-1]\n",
    "        cost = calculateCost(numpy.array(latestTour), tsp)\n",
    "        \n",
    "        costName = name + \"Costs\"\n",
    "        if costName not in features:\n",
    "            features[costName] = []\n",
    "\n",
    "        features[costName].append(cost)"
   ]
  },
  {
   "cell_type": "code",
   "execution_count": 12,
   "metadata": {},
   "outputs": [],
   "source": [
    "import heuristics\n",
    "\n",
    "annealingStartTemp = 1000000\n",
    "annealingEndTemp = 0.01\n",
    "annealingIterations = 100000\n",
    "\n",
    "tabuMaxCandidates = 1000\n",
    "tabuMax = 10000\n",
    "tabuIterations = 50\n",
    "tabuTimeLimit = 30\n",
    "\n",
    "graspNoImprovements = 10000\n",
    "graspIterations = 100000\n",
    "graspAlpha = 0.2\n",
    "graspTimeLimit = 30\n",
    "\n",
    "geneticGenerations = 3000\n",
    "\n",
    "antCount = 5\n",
    "antIterations = 1000\n",
    "antRepetitions = 1\n",
    "\n",
    "def generateSimulatedAnnealing(tsp):\n",
    "    return heuristics.solveSimAnneal(tsp, annealingStartTemp, annealingEndTemp, annealingIterations, False)\n",
    "\n",
    "def generateTabu(tsp):\n",
    "    return heuristics.solveTabu(tsp, tabuMaxCandidates, tabuMax, tabuIterations, tabuTimeLimit, False)\n",
    "\n",
    "def generateGrasp(tsp):\n",
    "    return heuristics.solveGrasp(tsp, graspNoImprovements, graspIterations, graspAlpha, graspTimeLimit, False)\n",
    "\n",
    "def generateGenetic(tsp):\n",
    "    return heuristics.solveGenetic(tsp, geneticGenerations, False)\n",
    "\n",
    "def generateAntColony(tsp):\n",
    "    return heuristics.solveAntColony(tsp, antCount, antIterations, antRepetitions, False)\n",
    "\n",
    "def generateHeuristics(tsp, features, n):\n",
    "    heuristics = {}\n",
    "    for i in range(n):\n",
    "        measureFeature(\"simulatedAnnealing\", False, tsp, None, heuristics, lambda tsp, _: generateSimulatedAnnealing(tsp))\n",
    "        measureHeuristicCost(\"simulatedAnnealing\", tsp, heuristics)\n",
    "        \n",
    "        measureFeature(\"tabu\", False, tsp, None, heuristics, lambda tsp, _: generateTabu(tsp))\n",
    "        measureHeuristicCost(\"tabu\", tsp, heuristics)\n",
    "        \n",
    "        measureFeature(\"grasp\", False, tsp, None, heuristics, lambda tsp, _: generateGrasp(tsp))\n",
    "        measureHeuristicCost(\"grasp\", tsp, heuristics)\n",
    "        \n",
    "        measureFeature(\"genetic\", False, tsp, None, heuristics, lambda tsp, _: generateGenetic(tsp))\n",
    "        measureHeuristicCost(\"genetic\", tsp, heuristics)\n",
    "        \n",
    "        measureFeature(\"antColony\", False, tsp, None, heuristics, lambda tsp, _: generateAntColony(tsp))\n",
    "        measureHeuristicCost(\"antColony\", tsp, heuristics)\n",
    "        \n",
    "    features[\"heuristics\"] = heuristics"
   ]
  },
  {
   "cell_type": "code",
   "execution_count": 9,
   "metadata": {
    "collapsed": true
   },
   "outputs": [],
   "source": [
    "def writeFeatures(features, filename):\n",
    "    stripNumpyDict(features)\n",
    "    \n",
    "    print(\"Writing File %s\" % (filename))\n",
    "    \n",
    "    with open(filename, \"w\") as file:\n",
    "        json.dump(features, file, indent=\"\\t\")\n",
    "        \n",
    "    print(\"Finished writting\")"
   ]
  },
  {
   "cell_type": "code",
   "execution_count": 10,
   "metadata": {
    "collapsed": true
   },
   "outputs": [],
   "source": [
    "def generateAll(tsp, instanceName, isTSPLib, n):\n",
    "    filename = os.path.splitext(instanceName)[0]\n",
    "    path = \"../data/features/tsplib/\"\n",
    "    \n",
    "    if not isTSPLib:\n",
    "        path = \"../data/features/generated/\"\n",
    "        \n",
    "    path += filename + \".json\"\n",
    "    \n",
    "    features = {}\n",
    "    \n",
    "    try:\n",
    "        generateFeatures(tsp, features, n)\n",
    "        generateHeuristics(tsp, features, n)\n",
    "    except:\n",
    "        traceback.print_exc()\n",
    "        print(\"Failure in %s\" % (path))\n",
    "                \n",
    "    writeFeatures(features, path)"
   ]
  },
  {
   "cell_type": "code",
   "execution_count": null,
   "metadata": {},
   "outputs": [
    {
     "name": "stdout",
     "output_type": "stream",
     "text": [
      "Examining att48.tsp\n",
      "Starting Simple Features 1\n",
      "Ending Simple Features 1\n",
      "Starting Simple Features 2\n",
      "Ending Simple Features 2\n",
      "Starting Complex Features 1\n",
      "Ending Complex Features 1\n",
      "Starting Complex Features 2\n",
      "Ending Complex Features 2\n",
      "Starting Heuristic Features 1\n",
      "Ending Heuristic Features 1\n",
      "Starting Heuristic Features 2\n"
     ]
    },
    {
     "name": "stderr",
     "output_type": "stream",
     "text": [
      " Temperature        Energy    Accept   Improve     Elapsed   Remaining\n",
      "\r",
      "1000000.00000     168348.50                         0:00:00            \r"
     ]
    },
    {
     "name": "stdout",
     "output_type": "stream",
     "text": [
      "Ending Heuristic Features 2\n"
     ]
    },
    {
     "name": "stderr",
     "output_type": "stream",
     "text": [
      "   Iteration        Energy    Accept   Improve     Elapsed   Remaining\n",
      "       23024      48494.97     1.00%     1.00%     0:00:30    -1:59:30             Iteration        Energy    Accept   Improve     Elapsed   Remaining\n",
      "      614253      33958.68     1.00%     1.00%     0:00:30    -1:59:35            Generation        Energy    Accept   Improve     Elapsed   Remaining\n",
      "        3000      74983.36   100.00%   100.00%     0:00:20     0:00:00             Iteration        Energy    Accept   Improve     Elapsed   Remaining\n",
      "           1  9223372036854775808.00                         0:00:00            \r"
     ]
    }
   ],
   "source": [
    "def featuresFromTSPs(tsps, instanceNames, isTSPLib, n):\n",
    "    for i in range(len(tsps)):\n",
    "        tsp = tsps[i]\n",
    "        instanceName = instanceNames[i]\n",
    "        \n",
    "        print(\"Examining %s\" % (instanceName))\n",
    "        \n",
    "        generateAll(tsp, instanceName, isTSPLib, n)\n",
    "        \n",
    "featuresFromTSPs(tspLibInstances, tspLibInstanceNames, True, 2)\n",
    "featuresFromTSPs(generatedInstances, generatedInstanceNames, True, 2)"
   ]
  },
  {
   "cell_type": "code",
   "execution_count": 8,
   "metadata": {
    "collapsed": true
   },
   "outputs": [],
   "source": [
    "tsp = solver.loadTSPLib(\"/Users/adam/Documents/Rose Repos/Thesis/data/tsplib/ch130.tsp\")"
   ]
  },
  {
   "cell_type": "code",
   "execution_count": null,
   "metadata": {},
   "outputs": [
    {
     "name": "stdout",
     "output_type": "stream",
     "text": [
      "Starting Simple Features 1\n",
      "Ending Simple Features 1\n",
      "Starting Simple Features 2\n",
      "Ending Simple Features 2\n",
      "Starting Simple Features 3\n",
      "Ending Simple Features 3\n",
      "Starting Simple Features 4\n",
      "Ending Simple Features 4\n",
      "Starting Simple Features 5\n",
      "Ending Simple Features 5\n",
      "Starting Complex Features 1\n",
      "Ending Complex Features 1\n",
      "Starting Complex Features 2\n",
      "Ending Complex Features 2\n",
      "Starting Complex Features 3\n",
      "Ending Complex Features 3\n",
      "Starting Complex Features 4\n",
      "Ending Complex Features 4\n",
      "Starting Complex Features 5\n",
      "Ending Complex Features 5\n",
      "Starting Heuristic Features 1\n",
      "Ending Heuristic Features 1\n",
      "Starting Heuristic Features 2\n",
      "Ending Heuristic Features 2\n",
      "Starting Heuristic Features 3\n",
      "Ending Heuristic Features 3\n",
      "Starting Heuristic Features 4\n",
      "Ending Heuristic Features 4\n",
      "Starting Heuristic Features 5\n"
     ]
    }
   ],
   "source": [
    "features = {}\n",
    "generateFeatures(tsp, \"../data/features/tsplib/ch130.json\", 5)\n",
    "# generateHeuristicFeatures(tsp, features, 1)"
   ]
  },
  {
   "cell_type": "code",
   "execution_count": 7,
   "metadata": {
    "collapsed": true
   },
   "outputs": [],
   "source": [
    "stripNumpyDict(features)\n",
    "\n",
    "with open(\"test.json\", \"w\") as file:\n",
    "    json.dump(features, file, indent=\"\\t\")"
   ]
  },
  {
   "cell_type": "code",
   "execution_count": 15,
   "metadata": {},
   "outputs": [],
   "source": [
    "features = {}\n",
    "generateHeuristics(tsp, features, 5)"
   ]
  },
  {
   "cell_type": "code",
   "execution_count": 13,
   "metadata": {},
   "outputs": [
    {
     "name": "stderr",
     "output_type": "stream",
     "text": [
      "   Iteration        Energy    Accept   Improve     Elapsed   Remaining\n",
      "        1001      42344.03     1.00%     1.00%     0:00:23     0:00:00          "
     ]
    },
    {
     "data": {
      "text/plain": [
       "[11,\n",
       " 46,\n",
       " 20,\n",
       " 12,\n",
       " 13,\n",
       " 24,\n",
       " 38,\n",
       " 31,\n",
       " 47,\n",
       " 4,\n",
       " 28,\n",
       " 41,\n",
       " 9,\n",
       " 23,\n",
       " 44,\n",
       " 34,\n",
       " 25,\n",
       " 3,\n",
       " 1,\n",
       " 33,\n",
       " 40,\n",
       " 15,\n",
       " 21,\n",
       " 2,\n",
       " 39,\n",
       " 45,\n",
       " 32,\n",
       " 43,\n",
       " 17,\n",
       " 6,\n",
       " 27,\n",
       " 35,\n",
       " 42,\n",
       " 26,\n",
       " 36,\n",
       " 18,\n",
       " 5,\n",
       " 29,\n",
       " 16,\n",
       " 19,\n",
       " 10,\n",
       " 22,\n",
       " 0,\n",
       " 8,\n",
       " 7,\n",
       " 14,\n",
       " 30,\n",
       " 37]"
      ]
     },
     "execution_count": 13,
     "metadata": {},
     "output_type": "execute_result"
    }
   ],
   "source": [
    "heuristics.solveAntColony(tspLibInstances[0], antCount, antIterations, antRepetitions, True)"
   ]
  },
  {
   "cell_type": "code",
   "execution_count": null,
   "metadata": {
    "collapsed": true
   },
   "outputs": [],
   "source": []
  }
 ],
 "metadata": {
  "kernelspec": {
   "display_name": "Python 3",
   "language": "python",
   "name": "python3"
  },
  "language_info": {
   "codemirror_mode": {
    "name": "ipython",
    "version": 3
   },
   "file_extension": ".py",
   "mimetype": "text/x-python",
   "name": "python",
   "nbconvert_exporter": "python",
   "pygments_lexer": "ipython3",
   "version": "3.6.2"
  }
 },
 "nbformat": 4,
 "nbformat_minor": 2
}
