{
 "cells": [
  {
   "cell_type": "code",
   "execution_count": 1,
   "metadata": {
    "collapsed": true
   },
   "outputs": [],
   "source": [
    "import glob, os, json\n",
    "import time\n",
    "import pickle\n",
    "import solver\n",
    "import traceback"
   ]
  },
  {
   "cell_type": "code",
   "execution_count": 14,
   "metadata": {
    "collapsed": true
   },
   "outputs": [],
   "source": [
    "tspLibPath = \"../data/tsplib/\"\n",
    "\n",
    "# Load TSP instances\n",
    "tspLibInstances = []\n",
    "tspInstanceNames = []\n",
    "for file in glob.glob(tspLibPath + \"*.tsp\"):\n",
    "    try:\n",
    "        tsp = solver.loadTSPLib(file)\n",
    "        tspLibInstances.append(tsp)\n",
    "        tspInstanceNames.append(os.path.basename(file))\n",
    "    except:\n",
    "        traceback.print_exc()"
   ]
  },
  {
   "cell_type": "code",
   "execution_count": 15,
   "metadata": {
    "collapsed": true
   },
   "outputs": [],
   "source": [
    "generatedPath = \"../data/generated/\"\n",
    "\n",
    "# Load TSP instances\n",
    "generatedInstances = []\n",
    "generatedInstanceNames = []\n",
    "for file in glob.glob(generatedPath + \"*.pytsp\"):\n",
    "    try:\n",
    "        tspFile = open(file, \"rb\")\n",
    "        tsp = pickle.load(tspFile)\n",
    "        generatedInstances.append(tsp)\n",
    "        generatedInstanceNames.append(os.path.basename(file))\n",
    "        tspFile.close()\n",
    "    except:\n",
    "        traceback.print_exc()"
   ]
  },
  {
   "cell_type": "code",
   "execution_count": 16,
   "metadata": {
    "collapsed": true
   },
   "outputs": [],
   "source": [
    "allInstances = tspLibInstances + generatedInstances\n",
    "allInstanceNames = tspInstanceNames + generatedInstanceNames"
   ]
  },
  {
   "cell_type": "code",
   "execution_count": 2,
   "metadata": {
    "collapsed": true
   },
   "outputs": [],
   "source": [
    "def measureFeature(name, deterministic, tsp, data, features, featureFunction):\n",
    "    start = time.time()\n",
    "    value = featureFunction(tsp, data)\n",
    "    end = time.time()\n",
    "    \n",
    "    storedValue = value\n",
    "    if type(storedValue).__module__=='numpy': # if value is numpy.*: > to python list\n",
    "        storedValue = storedValue.tolist()\n",
    "    \n",
    "    if deterministic:\n",
    "        features[name] = storedValue\n",
    "    else:\n",
    "        valueName = name + \"Values\"\n",
    "        if valueName not in features:\n",
    "            features[valueName] = []\n",
    "            \n",
    "        features[valueName].append(storedValue)\n",
    "        \n",
    "    timeName = name + \"Times\"\n",
    "    \n",
    "    if timeName not in features:\n",
    "        features[timeName] = []\n",
    "    \n",
    "    features[timeName].append(end - start)\n",
    "    \n",
    "    return value"
   ]
  },
  {
   "cell_type": "code",
   "execution_count": 37,
   "metadata": {
    "collapsed": true
   },
   "outputs": [],
   "source": [
    "def stripNumpyDict(dictionary):\n",
    "    for key in dictionary:\n",
    "        value = dictionary[key]\n",
    "        if isinstance(value, dict):\n",
    "            stripNumpyDict(value)\n",
    "        if isinstance(value, list):\n",
    "            dictionary[key] = stripNumpyArray(value)\n",
    "        elif type(value).__module__=='numpy': # if value is numpy.*: > to python list\n",
    "            dictionary[key] = value.item()\n",
    "            \n",
    "def stripNumpyArray(array):\n",
    "    newArray = []\n",
    "    for item in array:\n",
    "        if isinstance(item, list):\n",
    "            newArray.append(stripNumpyArray(item))\n",
    "        elif isinstance(item, numpy.ndarray):\n",
    "            newArray.append(stripNumpyArray(item.tolist()))\n",
    "        elif type(item).__module__=='numpy': # if value is numpy.*: > to python list\n",
    "            newArray.append(item.item())\n",
    "        else:\n",
    "            newArray.append(item)\n",
    "            \n",
    "    return newArray"
   ]
  },
  {
   "cell_type": "code",
   "execution_count": 74,
   "metadata": {
    "collapsed": true
   },
   "outputs": [],
   "source": [
    "from network.features import *\n",
    "from network.simpleFeatures import *\n",
    "from network.complexFeatures import *\n",
    "from network.heuristicFeatures import *\n",
    "import json\n",
    "\n",
    "nLowestEdgeCosts = 10\n",
    "nGeneratedSolutions = 100\n",
    "\n",
    "def generateSimpleFeatures(tsp, features, n):\n",
    "    simple = {}\n",
    "    for i in range(n):\n",
    "        print(\"Starting Simple Features %d\" % (i + 1))\n",
    "        measureFeature(\"numberVertices\", True, tsp, None, simple, lambda tsp, _: numberVertices(tsp))\n",
    "        \n",
    "        vertexCosts = measureFeature(\"vertexCostPrep\", True, tsp, None, simple, lambda tsp, _: buildVertexCosts(tsp))\n",
    "        data = {\"vertexCosts\": vertexCosts}\n",
    "        measureFeature(\"lowestVertexCost\", True, tsp, data, simple, lambda _, data: lowestVertexCost(data[\"vertexCosts\"]))\n",
    "        measureFeature(\"highestVertexCost\", True, tsp, data, simple, lambda _, data: highestVertexCost(data[\"vertexCosts\"]))\n",
    "        measureFeature(\"averageVertexCost\", True, tsp, data, simple, lambda _, data: averageVertexCost(data[\"vertexCosts\"]))\n",
    "        measureFeature(\"standardDeviationVertexCost\", True, tsp, data, simple, lambda _, data: standardDeviationVertexCost(data[\"vertexCosts\"]))\n",
    "        measureFeature(\"medianVertexCost\", True, tsp, data, simple, lambda _, data: medianVertexCost(data[\"vertexCosts\"]))\n",
    "        \n",
    "        measureFeature(\"sumCostNearestNeighbor\", True, tsp, None, simple, lambda tsp, _: sumCostNearestNeighbor(tsp))\n",
    "        measureFeature(\"numberEdges\", True, tsp, None, simple, lambda tsp, _: numberEdges(tsp))\n",
    "        measureFeature(\"lowestEdgeCost\", True, tsp, None, simple, lambda tsp, _: lowestEdgeCost(tsp))\n",
    "        measureFeature(\"highestEdgeCost\", True, tsp, None, simple, lambda tsp, _: highestEdgeCost(tsp))\n",
    "        measureFeature(\"averageEdgeCost\", True, tsp, None, simple, lambda tsp, _: averageEdgeCost(tsp))\n",
    "        measureFeature(\"standardDeviationEdgeCost\", True, tsp, None, simple, lambda tsp, _: standardDeviationEdgeCost(tsp))\n",
    "        measureFeature(\"medianEdgeCost\", True, tsp, None, simple, lambda tsp, _: medianEdgeCost(tsp))\n",
    "        measureFeature(\"sumNLowestEdgeCost\", True, tsp, None, simple, lambda tsp, _: sumNLowestEdgeCost(tsp, nLowestEdgeCosts))\n",
    "        \n",
    "        print(\"Ending Simple Features %d\" % (i + 1))\n",
    "        \n",
    "    features[\"simpleFeatures\"] = simple\n",
    "    \n",
    "def generateComplexFeatures(tsp, features, n):\n",
    "    complexFeatures = {}\n",
    "    for i in range(n):\n",
    "        print(\"Starting Complex Features %d\" % (i + 1))\n",
    "        measureFeature(\"averageShortestPathGeodesicDistance\", True, tsp, None, complexFeatures, lambda tsp, _: averageShortestPathGeodesicDistance(tsp))\n",
    "        measureFeature(\"averageGeodesicDistance\", True, tsp, None, complexFeatures, lambda tsp, _: averageGeodesicDistance(tsp))\n",
    "        \n",
    "        globalEfficiencyValue = measureFeature(\"globalEfficiency\", True, tsp, None, complexFeatures, lambda tsp, _: globalEfficiency(tsp))\n",
    "        data = {\"globalEfficiency\": globalEfficiencyValue}\n",
    "        measureFeature(\"harmonicMeanGeodesicDistance\", True, tsp, None, complexFeatures, lambda tsp, _: harmonicMeanGeodesicDistance(tsp))\n",
    "        \n",
    "        measureFeature(\"networkVulnerability\", True, tsp, data, complexFeatures, lambda tsp, data: networkVulnerability(tsp, data[\"globalEfficiency\"]))\n",
    "        \n",
    "        measureFeature(\"clusteringCoefficientTransitivity\", True, tsp, None, complexFeatures, lambda tsp, _: clusteringCoefficientTransitivity(tsp))\n",
    "        measureFeature(\"alternateClusteringCoefficient\", True, tsp, None, complexFeatures, lambda tsp, _: alternateClusteringCoefficient(tsp))\n",
    "        \n",
    "        connectedEdgeCountsValue = measureFeature(\"connectedEdgeCountsPrep\", True, tsp, None, complexFeatures, lambda tsp, _: connectedEdgeCounts(tsp))\n",
    "        data = {\"connectedEdgeCounts\": connectedEdgeCountsValue}\n",
    "        measureFeature(\"weightedClusteringCoefficient\", True, tsp, data, complexFeatures, lambda tsp, data: weightedClusteringCoefficient(tsp, data[\"connectedEdgeCounts\"]))\n",
    "        measureFeature(\"networkCyclicCoefficient\", True, tsp, data, complexFeatures, lambda tsp, data: networkCyclicCoefficient(tsp, data[\"connectedEdgeCounts\"]))\n",
    "        measureFeature(\"maxVertexDegree\", True, tsp, data, complexFeatures, lambda _, data: maxVertexDegree(data[\"connectedEdgeCounts\"]))\n",
    "        measureFeature(\"edgeDegreeCorrelation\", True, tsp, data, complexFeatures, lambda tsp, data: edgeDegreeCorrelation(tsp, data[\"connectedEdgeCounts\"]))\n",
    "        \n",
    "        measureFeature(\"entropyDegreeDistribution\", True, tsp, None, complexFeatures, lambda tsp, _: entropyDegreeDistribution(tsp))\n",
    "        measureFeature(\"targetEntropy\", True, tsp, None, complexFeatures, lambda tsp, _: targetEntropy(tsp))\n",
    "        measureFeature(\"vertexParticipationCoefficient\", True, tsp, None, complexFeatures, lambda tsp, _: vertexParticipationCoefficient(tsp))\n",
    "        measureFeature(\"edgeReciprocity\", True, tsp, None, complexFeatures, lambda tsp, _: edgeReciprocity(tsp))\n",
    "        measureFeature(\"adjacencyCorrelationCoefficient\", True, tsp, None, complexFeatures, lambda tsp, _: adjacencyCorrelationCoefficient(tsp))\n",
    "        \n",
    "        print(\"Ending Complex Features %d\" % (i + 1))\n",
    "        \n",
    "    features[\"complexFeatures\"] = complexFeatures\n",
    "    \n",
    "def generateHeuristicFeatures(tsp, features, n):\n",
    "    heuristicFeatures = {}\n",
    "    for i in range(n):\n",
    "        print(\"Starting Heuristic Features %d\" % (i + 1))\n",
    "        \n",
    "        random = measureFeature(\"randomSolutionsPrep\", True, tsp, None, heuristicFeatures, lambda tsp, _: randomSolutions(tsp, nGeneratedSolutions))\n",
    "        data = {\"randomSolutions\": random}\n",
    "        randomNeighbor = measureFeature(\"randomNeighborSolutionsPrep\", True, tsp, data, heuristicFeatures, lambda tsp, data: list(map(lambda solution: neighborSolutions(tsp, solution, nGeneratedSolutions), data[\"randomSolutions\"])))\n",
    "        \n",
    "        # Remove most of randomNeighbors from features\n",
    "        heuristicFeatures[\"randomNeighborSolutionsPrep\"] = heuristicFeatures[\"randomNeighborSolutionsPrep\"][:min(5, nGeneratedSolutions)]\n",
    "        \n",
    "        data = {\"randomSolutions\": random, \"randomNeighborSolutions\": randomNeighbor}\n",
    "        measureFeature(\"proportionsNeighborsWithBetterSolution\", True, tsp, data, heuristicFeatures, lambda tsp, data: proportionsNeighborsWithBetterSolution(tsp, data[\"randomSolutions\"], data[\"randomNeighborSolutions\"]))\n",
    "        measureFeature(\"averageRatioNeighborsWithBetterSolution\", True, tsp, data, heuristicFeatures, lambda tsp, data: averageRatioNeighborsWithBetterSolution(tsp, data[\"randomSolutions\"], data[\"randomNeighborSolutions\"]))\n",
    "        measureFeature(\"randomNeighborSolutionQuality\", True, tsp, data, heuristicFeatures, lambda tsp, data: randomNeighborSolutionQuality(tsp, data[\"randomSolutions\"], data[\"randomNeighborSolutions\"]))\n",
    "        \n",
    "        print(\"Ending Heuristic Features %d\" % (i + 1))\n",
    "        \n",
    "    features[\"heuristicFeatures\"] = heuristicFeatures\n",
    "        \n",
    "def generateFeatures(tsp, filename, n):\n",
    "    features = {}\n",
    "    \n",
    "    generateSimpleFeatures(tsp, features, n)\n",
    "    generateComplexFeatures(tsp, features, n)\n",
    "    \n",
    "    stripNumpyDict(features)\n",
    "    \n",
    "    with open(filename, \"w\") as file:\n",
    "        json.dump(features, file, indent=\"\\t\")\n"
   ]
  },
  {
   "cell_type": "code",
   "execution_count": 41,
   "metadata": {},
   "outputs": [
    {
     "ename": "NameError",
     "evalue": "name 'allInstanceNames' is not defined",
     "output_type": "error",
     "traceback": [
      "\u001b[0;31m---------------------------------------------------------------------------\u001b[0m",
      "\u001b[0;31mNameError\u001b[0m                                 Traceback (most recent call last)",
      "\u001b[0;32m<ipython-input-41-32345fb151d5>\u001b[0m in \u001b[0;36m<module>\u001b[0;34m()\u001b[0m\n\u001b[0;32m----> 1\u001b[0;31m \u001b[0mallInstanceNames\u001b[0m\u001b[0;34m\u001b[0m\u001b[0m\n\u001b[0m",
      "\u001b[0;31mNameError\u001b[0m: name 'allInstanceNames' is not defined"
     ]
    }
   ],
   "source": [
    "allInstanceNames"
   ]
  },
  {
   "cell_type": "code",
   "execution_count": 53,
   "metadata": {
    "collapsed": true
   },
   "outputs": [],
   "source": [
    "tsp = solver.loadTSPLib(\"/Users/adam/Documents/Rose Repos/Thesis/data/tsplib/ch130.tsp\")"
   ]
  },
  {
   "cell_type": "code",
   "execution_count": 75,
   "metadata": {},
   "outputs": [
    {
     "name": "stdout",
     "output_type": "stream",
     "text": [
      "Starting Heuristic Features 1\n",
      "Ending Heuristic Features 1\n"
     ]
    }
   ],
   "source": [
    "features = {}\n",
    "# generateFeatures(tsp, \"../data/features/tsplib/ch130.json\", 1)\n",
    "generateHeuristicFeatures(tsp, features, 1)"
   ]
  },
  {
   "cell_type": "code",
   "execution_count": 55,
   "metadata": {},
   "outputs": [],
   "source": [
    "stripNumpyDict(features)\n",
    "\n",
    "with open(\"test.json\", \"w\") as file:\n",
    "    json.dump(features, file, indent=\"\\t\")"
   ]
  },
  {
   "cell_type": "code",
   "execution_count": 14,
   "metadata": {
    "collapsed": true
   },
   "outputs": [],
   "source": [
    "sortedCosts = numpy.sort(tsp.costs[numpy.nonzero(tsp.costs)], axis=None)"
   ]
  },
  {
   "cell_type": "code",
   "execution_count": 15,
   "metadata": {},
   "outputs": [
    {
     "data": {
      "text/plain": [
       "array([  6.60180990e-01,   6.60180990e-01,   2.23623041e+00, ...,\n",
       "         9.38517244e+02,   9.38842335e+02,   9.38842335e+02])"
      ]
     },
     "execution_count": 15,
     "metadata": {},
     "output_type": "execute_result"
    }
   ],
   "source": [
    "sortedCosts"
   ]
  },
  {
   "cell_type": "code",
   "execution_count": 16,
   "metadata": {},
   "outputs": [
    {
     "data": {
      "text/plain": [
       "array([[   0.        ,  119.09645956,  169.64633859, ...,   89.76011102,\n",
       "         166.56933504,   81.6422314 ],\n",
       "       [ 119.09645956,    0.        ,  139.19177174, ...,  175.81408796,\n",
       "         270.55303015,   57.19837622],\n",
       "       [ 169.64633859,  139.19177174,    0.        , ...,  146.43591543,\n",
       "         332.82245704,  105.86886018],\n",
       "       ..., \n",
       "       [  89.76011102,  175.81408796,  146.43591543, ...,    0.        ,\n",
       "         207.5325414 ,  119.84887942],\n",
       "       [ 166.56933504,  270.55303015,  332.82245704, ...,  207.5325414 ,\n",
       "           0.        ,  246.87507296],\n",
       "       [  81.6422314 ,   57.19837622,  105.86886018, ...,  119.84887942,\n",
       "         246.87507296,    0.        ]])"
      ]
     },
     "execution_count": 16,
     "metadata": {},
     "output_type": "execute_result"
    }
   ],
   "source": [
    "tsp.costs"
   ]
  },
  {
   "cell_type": "code",
   "execution_count": 17,
   "metadata": {},
   "outputs": [
    {
     "data": {
      "text/plain": [
       "array([ 119.09645956,  169.64633859,  248.29638486, ...,  207.21526864,\n",
       "        119.84887942,  246.87507296])"
      ]
     },
     "execution_count": 17,
     "metadata": {},
     "output_type": "execute_result"
    }
   ],
   "source": [
    "tsp.costs[numpy.nonzero(tsp.costs)]"
   ]
  }
 ],
 "metadata": {
  "kernelspec": {
   "display_name": "Python 3",
   "language": "python",
   "name": "python3"
  },
  "language_info": {
   "codemirror_mode": {
    "name": "ipython",
    "version": 3
   },
   "file_extension": ".py",
   "mimetype": "text/x-python",
   "name": "python",
   "nbconvert_exporter": "python",
   "pygments_lexer": "ipython3",
   "version": "3.6.2"
  }
 },
 "nbformat": 4,
 "nbformat_minor": 2
}
