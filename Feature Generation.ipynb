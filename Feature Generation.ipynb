{
 "cells": [
  {
   "cell_type": "code",
   "execution_count": 1,
   "metadata": {
    "collapsed": true
   },
   "outputs": [],
   "source": [
    "import glob, os, json\n",
    "import time\n",
    "import pickle\n",
    "import solver\n",
    "import traceback"
   ]
  },
  {
   "cell_type": "code",
   "execution_count": 14,
   "metadata": {
    "collapsed": true
   },
   "outputs": [],
   "source": [
    "tspLibPath = \"../data/tsplib/\"\n",
    "\n",
    "# Load TSP instances\n",
    "tspLibInstances = []\n",
    "tspInstanceNames = []\n",
    "for file in glob.glob(tspLibPath + \"*.tsp\"):\n",
    "    try:\n",
    "        tsp = solver.loadTSPLib(file)\n",
    "        tspLibInstances.append(tsp)\n",
    "        tspInstanceNames.append(os.path.basename(file))\n",
    "    except:\n",
    "        traceback.print_exc()"
   ]
  },
  {
   "cell_type": "code",
   "execution_count": 15,
   "metadata": {
    "collapsed": true
   },
   "outputs": [],
   "source": [
    "generatedPath = \"../data/generated/\"\n",
    "\n",
    "# Load TSP instances\n",
    "generatedInstances = []\n",
    "generatedInstanceNames = []\n",
    "for file in glob.glob(generatedPath + \"*.pytsp\"):\n",
    "    try:\n",
    "        tspFile = open(file, \"rb\")\n",
    "        tsp = pickle.load(tspFile)\n",
    "        generatedInstances.append(tsp)\n",
    "        generatedInstanceNames.append(os.path.basename(file))\n",
    "        tspFile.close()\n",
    "    except:\n",
    "        traceback.print_exc()"
   ]
  },
  {
   "cell_type": "code",
   "execution_count": 16,
   "metadata": {
    "collapsed": true
   },
   "outputs": [],
   "source": [
    "allInstances = tspLibInstances + generatedInstances\n",
    "allInstanceNames = tspInstanceNames + generatedInstanceNames"
   ]
  },
  {
   "cell_type": "code",
   "execution_count": 2,
   "metadata": {
    "collapsed": true
   },
   "outputs": [],
   "source": [
    "def measureFeature(name, deterministic, tsp, data, features, featureFunction):\n",
    "    start = time.time()\n",
    "    value = featureFunction(tsp, data)\n",
    "    end = time.time()\n",
    "    \n",
    "    storedValue = value\n",
    "    if type(storedValue).__module__=='numpy': # if value is numpy.*: > to python list\n",
    "        storedValue = storedValue.tolist()\n",
    "    \n",
    "    if deterministic:\n",
    "        features[name] = storedValue\n",
    "    else:\n",
    "        valueName = name + \"Values\"\n",
    "        if valueName not in features:\n",
    "            features[valueName] = []\n",
    "            \n",
    "        features[valueName].append(storedValue)\n",
    "        \n",
    "    timeName = name + \"Times\"\n",
    "    \n",
    "    if timeName not in features:\n",
    "        features[timeName] = []\n",
    "    \n",
    "    features[timeName].append(end - start)\n",
    "    \n",
    "    return value"
   ]
  },
  {
   "cell_type": "code",
   "execution_count": 3,
   "metadata": {
    "collapsed": true
   },
   "outputs": [],
   "source": [
    "def stripNumpyDict(dictionary):\n",
    "    for key in dictionary:\n",
    "        value = dictionary[key]\n",
    "        if isinstance(value, dict):\n",
    "            stripNumpyDict(value)\n",
    "        if isinstance(value, list):\n",
    "            dictionary[key] = stripNumpyArray(value)\n",
    "        elif type(value).__module__=='numpy': # if value is numpy.*: > to python list\n",
    "            dictionary[key] = value.item()\n",
    "            \n",
    "def stripNumpyArray(array):\n",
    "    newArray = []\n",
    "    for item in array:\n",
    "        if isinstance(item, list):\n",
    "            newArray.append(stripNumpyArray(array))\n",
    "        elif type(item).__module__=='numpy': # if value is numpy.*: > to python list\n",
    "            newArray.append(item.item())\n",
    "        else:\n",
    "            newArray.append(item)\n",
    "            \n",
    "    return newArray"
   ]
  },
  {
   "cell_type": "code",
   "execution_count": 8,
   "metadata": {
    "collapsed": true
   },
   "outputs": [],
   "source": [
    "from network.features import *\n",
    "from network.simpleFeatures import *\n",
    "from network.complexFeatures import *\n",
    "from network.heuristicFeatures import *\n",
    "import json\n",
    "\n",
    "nLowestEdgeCosts = 10\n",
    "\n",
    "def generateSimpleFeatures(tsp, features, n):\n",
    "    simple = {}\n",
    "    for i in range(n):\n",
    "        print(\"Starting Simple Features %d\" % (i + 1))\n",
    "        measureFeature(\"numberVertices\", True, tsp, None, simple, lambda tsp, _: numberVertices(tsp))\n",
    "        \n",
    "        vertexCosts = measureFeature(\"vertexCostPrep\", True, tsp, None, simple, lambda tsp, _: buildVertexCosts(tsp))\n",
    "        data = {\"vertexCosts\": vertexCosts}\n",
    "        measureFeature(\"lowestVertexCost\", True, tsp, data, simple, lambda _, data: lowestVertexCost(data[\"vertexCosts\"]))\n",
    "        measureFeature(\"highestVertexCost\", True, tsp, data, simple, lambda _, data: highestVertexCost(data[\"vertexCosts\"]))\n",
    "        measureFeature(\"averageVertexCost\", True, tsp, data, simple, lambda _, data: averageVertexCost(data[\"vertexCosts\"]))\n",
    "        measureFeature(\"standardDeviationVertexCost\", True, tsp, data, simple, lambda _, data: standardDeviationVertexCost(data[\"vertexCosts\"]))\n",
    "        measureFeature(\"medianVertexCost\", True, tsp, data, simple, lambda _, data: medianVertexCost(data[\"vertexCosts\"]))\n",
    "        \n",
    "        measureFeature(\"sumCostNearestNeighbor\", True, tsp, None, simple, lambda tsp, _: sumCostNearestNeighbor(tsp))\n",
    "        measureFeature(\"numberEdges\", True, tsp, None, simple, lambda tsp, _: numberEdges(tsp))\n",
    "        measureFeature(\"lowestEdgeCost\", True, tsp, None, simple, lambda tsp, _: lowestEdgeCost(tsp))\n",
    "        measureFeature(\"highestEdgeCost\", True, tsp, None, simple, lambda tsp, _: highestEdgeCost(tsp))\n",
    "        measureFeature(\"averageEdgeCost\", True, tsp, None, simple, lambda tsp, _: averageEdgeCost(tsp))\n",
    "        measureFeature(\"standardDeviationEdgeCost\", True, tsp, None, simple, lambda tsp, _: standardDeviationEdgeCost(tsp))\n",
    "        measureFeature(\"medianEdgeCost\", True, tsp, None, simple, lambda tsp, _: medianEdgeCost(tsp))\n",
    "        measureFeature(\"sumNLowestEdgeCost\", True, tsp, None, simple, lambda tsp, _: sumNLowestEdgeCost(tsp, nLowestEdgeCosts))\n",
    "        \n",
    "        print(\"Ending Simple Features %d\" % (i + 1))\n",
    "        \n",
    "    features[\"simpleFeatures\"] = simple\n",
    "    \n",
    "def generateComplexFeatures(tsp, features, n):\n",
    "    complexFeatures = {}\n",
    "    for i in range(n):\n",
    "        print(\"Starting Complex Features %d\" % (i + 1))\n",
    "        measureFeature(\"averageShortestPathGeodesicDistance\", True, tsp, None, complexFeatures, lambda tsp, _: averageShortestPathGeodesicDistance(tsp))\n",
    "        measureFeature(\"averageGeodesicDistance\", True, tsp, None, complexFeatures, lambda tsp, _: averageGeodesicDistance(tsp))\n",
    "        \n",
    "        globalEfficiencyValue = measureFeature(\"globalEfficiency\", True, tsp, None, complexFeatures, lambda tsp, _: globalEfficiency(tsp))\n",
    "        data = {\"globalEfficiency\": globalEfficiencyValue}\n",
    "        measureFeature(\"harmonicMeanGeodesicDistance\", True, tsp, None, complexFeatures, lambda tsp, _: harmonicMeanGeodesicDistance(tsp))\n",
    "        \n",
    "        measureFeature(\"networkVulnerability\", True, tsp, data, complexFeatures, lambda tsp, data: networkVulnerability(tsp, data[\"globalEfficiency\"]))\n",
    "        \n",
    "        measureFeature(\"clusteringCoefficientTransitivity\", True, tsp, None, complexFeatures, lambda tsp, _: clusteringCoefficientTransitivity(tsp))\n",
    "        measureFeature(\"alternateClusteringCoefficient\", True, tsp, None, complexFeatures, lambda tsp, _: alternateClusteringCoefficient(tsp))\n",
    "        \n",
    "        connectedEdgeCountsValue = measureFeature(\"connectedEdgeCountsPrep\", True, tsp, None, complexFeatures, lambda tsp, _: connectedEdgeCounts(tsp))\n",
    "        data = {\"connectedEdgeCounts\": connectedEdgeCountsValue}\n",
    "        measureFeature(\"weightedClusteringCoefficient\", True, tsp, data, complexFeatures, lambda tsp, data: weightedClusteringCoefficient(tsp, data[\"connectedEdgeCounts\"]))\n",
    "        measureFeature(\"networkCyclicCoefficient\", True, tsp, data, complexFeatures, lambda tsp, data: networkCyclicCoefficient(tsp, data[\"connectedEdgeCounts\"]))\n",
    "        measureFeature(\"maxVertexDegree\", True, tsp, data, complexFeatures, lambda _, data: maxVertexDegree(data[\"connectedEdgeCounts\"]))\n",
    "        measureFeature(\"edgeDegreeCorrelation\", True, tsp, data, complexFeatures, lambda tsp, data: edgeDegreeCorrelation(tsp, data[\"connectedEdgeCounts\"]))\n",
    "        \n",
    "        measureFeature(\"entropyDegreeDistribution\", True, tsp, None, complexFeatures, lambda tsp, _: entropyDegreeDistribution(tsp))\n",
    "        measureFeature(\"targetEntropy\", True, tsp, None, complexFeatures, lambda tsp, _: targetEntropy(tsp))\n",
    "        measureFeature(\"vertexParticipationCoefficient\", True, tsp, None, complexFeatures, lambda tsp, _: vertexParticipationCoefficient(tsp))\n",
    "        measureFeature(\"edgeReciprocity\", True, tsp, None, complexFeatures, lambda tsp, _: edgeReciprocity(tsp))\n",
    "        measureFeature(\"adjacencyCorrelationCoefficient\", True, tsp, None, complexFeatures, lambda tsp, _: adjacencyCorrelationCoefficient(tsp))\n",
    "        \n",
    "        print(\"Ending Complex Features %d\" % (i + 1))\n",
    "        \n",
    "    features[\"complexFeatures\"] = complexFeatures\n",
    "        \n",
    "def generateFeatures(tsp, filename, n):\n",
    "    features = {}\n",
    "    \n",
    "    generateSimpleFeatures(tsp, features, n)\n",
    "    generateComplexFeatures(tsp, features, n)\n",
    "    \n",
    "    stripNumpyDict(features)\n",
    "    \n",
    "    with open(filename, \"w\") as file:\n",
    "        json.dump(features, file)\n"
   ]
  },
  {
   "cell_type": "code",
   "execution_count": 9,
   "metadata": {},
   "outputs": [
    {
     "ename": "NameError",
     "evalue": "name 'allInstanceNames' is not defined",
     "output_type": "error",
     "traceback": [
      "\u001b[0;31m---------------------------------------------------------------------------\u001b[0m",
      "\u001b[0;31mNameError\u001b[0m                                 Traceback (most recent call last)",
      "\u001b[0;32m<ipython-input-9-32345fb151d5>\u001b[0m in \u001b[0;36m<module>\u001b[0;34m()\u001b[0m\n\u001b[0;32m----> 1\u001b[0;31m \u001b[0mallInstanceNames\u001b[0m\u001b[0;34m\u001b[0m\u001b[0m\n\u001b[0m",
      "\u001b[0;31mNameError\u001b[0m: name 'allInstanceNames' is not defined"
     ]
    }
   ],
   "source": [
    "allInstanceNames"
   ]
  },
  {
   "cell_type": "code",
   "execution_count": 10,
   "metadata": {
    "collapsed": true
   },
   "outputs": [],
   "source": [
    "tsp = solver.loadTSPLib(\"/Users/adam/Documents/Rose Repos/Thesis/data/tsplib/ch130.tsp\")"
   ]
  },
  {
   "cell_type": "code",
   "execution_count": 11,
   "metadata": {},
   "outputs": [
    {
     "name": "stdout",
     "output_type": "stream",
     "text": [
      "Starting Simple Features 1\n",
      "Ending Simple Features 1\n",
      "Starting Complex Features 1\n",
      "Ending Complex Features 1\n",
      "{'simpleFeatures': {'numberVertices': 130, 'numberVerticesTimes': [5.245208740234375e-06], 'vertexCostPrep': [297.1577448509223, 266.17981371280666, 315.4475930641637, 274.1246260189174, 396.5070435727815, 439.03581169132195, 405.46094038533573, 309.66018775024145, 436.87359751528714, 402.66905875628026, 397.7275567912588, 325.4129442177554, 406.1660775532017, 398.40462250416715, 288.771362080862, 341.214916949064, 264.3228252150921, 294.40435717619545, 281.21714896385714, 274.56897235704383, 310.3501606208629, 315.5578154595597, 334.84070909593936, 287.39255892901565, 385.1707389743273, 386.7438460668381, 273.53948429291444, 411.86308021120925, 300.30261603647506, 361.85513710450243, 265.98807227008564, 396.54427319207304, 317.24059326876295, 270.78667652553014, 264.1484610664759, 398.67684992634804, 312.6543917296114, 296.1150258448843, 298.59452646975814, 320.3387717317367, 299.68667912303425, 305.9720631975158, 301.26763457705863, 305.2452022450202, 350.80174570691133, 275.96423455014207, 320.53858196176805, 387.2303903666333, 331.6981904210345, 275.47285019393286, 329.0643727527854, 420.2720207902535, 324.40028202548206, 259.91242263081494, 353.4940581329505, 408.1245964229775, 433.15148070495013, 327.9578312916886, 380.9348060212496, 336.9786550675244, 387.50217064048104, 355.4375572907966, 350.870626875582, 452.05535570960075, 384.9880007544444, 509.3021982189391, 398.8147892711807, 355.5970006036814, 469.00318172302536, 360.15418917222325, 292.62354356466255, 368.91098814134915, 372.5301362620849, 400.97616177330747, 403.96851212388566, 366.8873630952837, 355.5956507710828, 426.80608817474535, 287.57297991791324, 271.7615763713796, 331.11283560663384, 453.8361670911524, 340.4327904734559, 400.3676673072681, 464.50360092413246, 504.2319403588615, 325.1862506109539, 457.9309667460605, 318.4004460004766, 439.445427730716, 426.93228122549084, 333.1153932049321, 292.8038621714879, 334.4923541924355, 289.8647572505356, 390.01832992861864, 377.2429647591612, 353.44438227876645, 396.9542532825265, 272.014696749231, 494.48418589457015, 456.5891735867851, 358.52802288478233, 298.9871942751559, 342.46878054604986, 296.3375270664543, 313.0673711158792, 309.50816232484146, 387.13409054304077, 330.4024284047125, 502.95466579068375, 336.9336285747571, 387.18434272730974, 321.81634972087255, 377.4487965475737, 280.99571112833956, 321.34019879232346, 267.93450878351, 420.9825759047079, 335.80069065443564, 376.7583795156179, 355.1943248901982, 502.62392533752154, 385.9167534014095, 443.8921363854407, 334.1749737403161, 308.25268216485534, 334.5324672742762, 364.4240967711809, 280.32382845341454], 'vertexCostPrepTimes': [0.016314268112182617], 'lowestVertexCost': 259.91242263081494, 'lowestVertexCostTimes': [3.0994415283203125e-05], 'highestVertexCost': 509.3021982189391, 'highestVertexCostTimes': [1.0013580322265625e-05], 'averageVertexCost': 353.48369615135965, 'averageVertexCostTimes': [2.8133392333984375e-05], 'standardDeviationVertexCost': 60.94506615613459, 'standardDeviationVertexCostTimes': [6.222724914550781e-05], 'medianVertexCost': 340.82385371125997, 'medianVertexCostTimes': [0.0001380443572998047], 'sumCostNearestNeighbor': 3741.6557114123157, 'sumCostNearestNeighborTimes': [0.008234977722167969], 'numberEdges': 16770.0, 'numberEdgesTimes': [5.1021575927734375e-05], 'lowestEdgeCost': 0.6601809903932513, 'lowestEdgeCostTimes': [0.0004851818084716797], 'highestEdgeCost': 938.8423346368003, 'highestEdgeCostTimes': [1.9073486328125e-05], 'averageEdgeCost': 356.22387984245546, 'averageEdgeCostTimes': [0.0003368854522705078], 'standardDeviationEdgeCost': 172.16362422921196, 'standardDeviationEdgeCostTimes': [9.179115295410156e-05], 'medianEdgeCost': 346.21487820420975, 'medianEdgeCostTimes': [0.000244140625], 'sumNLowestEdgeCost': 2918.07163810269, 'sumNLowestEdgeCostTimes': [0.0012359619140625]}, 'complexFeatures': {'averageShortestPathGeodesicDistance': 356.2238798424546, 'averageShortestPathGeodesicDistanceTimes': [1.345531940460205], 'averageGeodesicDistance': 356.22387984245546, 'averageGeodesicDistanceTimes': [0.0003840923309326172], 'globalEfficiency': 0.004587449775122292, 'globalEfficiencyTimes': [0.00035881996154785156], 'harmonicMeanGeodesicDistance': 1290141.80386199, 'harmonicMeanGeodesicDistanceTimes': [0.0003597736358642578], 'networkVulnerability': 0.002029569176684784, 'networkVulnerabilityTimes': [0.0022068023681640625], 'clusteringCoefficientTransitivity': 3.0, 'clusteringCoefficientTransitivityTimes': [7.779758930206299], 'alternateClusteringCoefficient': 8256.0, 'alternateClusteringCoefficientTimes': [20.53561782836914], 'connectedEdgeCountsPrep': [129, 129, 129, 129, 129, 129, 129, 129, 129, 129, 129, 129, 129, 129, 129, 129, 129, 129, 129, 129, 129, 129, 129, 129, 129, 129, 129, 129, 129, 129, 129, 129, 129, 129, 129, 129, 129, 129, 129, 129, 129, 129, 129, 129, 129, 129, 129, 129, 129, 129, 129, 129, 129, 129, 129, 129, 129, 129, 129, 129, 129, 129, 129, 129, 129, 129, 129, 129, 129, 129, 129, 129, 129, 129, 129, 129, 129, 129, 129, 129, 129, 129, 129, 129, 129, 129, 129, 129, 129, 129, 129, 129, 129, 129, 129, 129, 129, 129, 129, 129, 129, 129, 129, 129, 129, 129, 129, 129, 129, 129, 129, 129, 129, 129, 129, 129, 129, 129, 129, 129, 129, 129, 129, 129, 129, 129, 129, 129, 129, 129], 'connectedEdgeCountsPrepTimes': [0.04509425163269043], 'weightedClusteringCoefficient': 0.5000000000000001, 'weightedClusteringCoefficientTimes': [10.851857900619507], 'networkCyclicCoefficient': 1.0, 'networkCyclicCoefficientTimes': [216.30580592155457], 'maxVertexDegree': 129, 'maxVertexDegreeTimes': [1.0967254638671875e-05], 'edgeDegreeCorrelation': 1.0, 'edgeDegreeCorrelationTimes': [0.0609588623046875], 'entropyDegreeDistribution': None, 'entropyDegreeDistributionTimes': [2.1457672119140625e-06], 'targetEntropy': -397595.13217120955, 'targetEntropyTimes': [0.02870774269104004], 'vertexParticipationCoefficient': None, 'vertexParticipationCoefficientTimes': [9.5367431640625e-07], 'edgeReciprocity': 1.0, 'edgeReciprocityTimes': [0.022995948791503906], 'adjacencyCorrelationCoefficient': 1.0, 'adjacencyCorrelationCoefficientTimes': [0.13460588455200195]}}\n"
     ]
    }
   ],
   "source": [
    "features = {}\n",
    "generateFeatures(tsp, \"../data/features/tsplib/ch130.json\", 1)"
   ]
  },
  {
   "cell_type": "code",
   "execution_count": 8,
   "metadata": {},
   "outputs": [
    {
     "data": {
      "text/plain": [
       "{}"
      ]
     },
     "execution_count": 8,
     "metadata": {},
     "output_type": "execute_result"
    }
   ],
   "source": [
    "features"
   ]
  },
  {
   "cell_type": "code",
   "execution_count": 6,
   "metadata": {},
   "outputs": [
    {
     "data": {
      "text/plain": [
       "130"
      ]
     },
     "execution_count": 6,
     "metadata": {},
     "output_type": "execute_result"
    }
   ],
   "source": [
    "tsp.getSize()"
   ]
  },
  {
   "cell_type": "code",
   "execution_count": 7,
   "metadata": {},
   "outputs": [
    {
     "name": "stdout",
     "output_type": "stream",
     "text": [
      "0\n"
     ]
    },
    {
     "ename": "IndexError",
     "evalue": "too many indices for array",
     "output_type": "error",
     "traceback": [
      "\u001b[0;31m---------------------------------------------------------------------------\u001b[0m",
      "\u001b[0;31mIndexError\u001b[0m                                Traceback (most recent call last)",
      "\u001b[0;32m<ipython-input-7-69804086c4d2>\u001b[0m in \u001b[0;36m<module>\u001b[0;34m()\u001b[0m\n\u001b[0;32m----> 1\u001b[0;31m \u001b[0mbuildVertexCosts\u001b[0m\u001b[0;34m(\u001b[0m\u001b[0mtsp\u001b[0m\u001b[0;34m)\u001b[0m\u001b[0;34m\u001b[0m\u001b[0m\n\u001b[0m",
      "\u001b[0;32m~/Documents/Rose Repos/Thesis/python/network/features.py\u001b[0m in \u001b[0;36mbuildVertexCosts\u001b[0;34m(tsp)\u001b[0m\n\u001b[1;32m     22\u001b[0m         \u001b[0;32mfor\u001b[0m \u001b[0mcity\u001b[0m \u001b[0;32min\u001b[0m \u001b[0mrange\u001b[0m\u001b[0;34m(\u001b[0m\u001b[0mtsp\u001b[0m\u001b[0;34m.\u001b[0m\u001b[0mgetSize\u001b[0m\u001b[0;34m(\u001b[0m\u001b[0;34m)\u001b[0m\u001b[0;34m)\u001b[0m\u001b[0;34m:\u001b[0m\u001b[0;34m\u001b[0m\u001b[0m\n\u001b[1;32m     23\u001b[0m                 \u001b[0mprint\u001b[0m\u001b[0;34m(\u001b[0m\u001b[0mcity\u001b[0m\u001b[0;34m)\u001b[0m\u001b[0;34m\u001b[0m\u001b[0m\n\u001b[0;32m---> 24\u001b[0;31m                 \u001b[0mcosts\u001b[0m\u001b[0;34m[\u001b[0m\u001b[0mcity\u001b[0m\u001b[0;34m]\u001b[0m \u001b[0;34m=\u001b[0m \u001b[0mvertexCost\u001b[0m\u001b[0;34m(\u001b[0m\u001b[0mtsp\u001b[0m\u001b[0;34m,\u001b[0m \u001b[0mcity\u001b[0m\u001b[0;34m)\u001b[0m\u001b[0;34m\u001b[0m\u001b[0m\n\u001b[0m\u001b[1;32m     25\u001b[0m \u001b[0;34m\u001b[0m\u001b[0m\n\u001b[1;32m     26\u001b[0m         \u001b[0;32mreturn\u001b[0m \u001b[0mcosts\u001b[0m\u001b[0;34m\u001b[0m\u001b[0m\n",
      "\u001b[0;31mIndexError\u001b[0m: too many indices for array"
     ]
    }
   ],
   "source": [
    "buildVertexCosts(tsp)"
   ]
  },
  {
   "cell_type": "code",
   "execution_count": 18,
   "metadata": {},
   "outputs": [],
   "source": [
    "import numpy\n",
    "test = numpy.array(tsp.getSize())"
   ]
  },
  {
   "cell_type": "code",
   "execution_count": 13,
   "metadata": {},
   "outputs": [
    {
     "ename": "IndexError",
     "evalue": "too many indices for array",
     "output_type": "error",
     "traceback": [
      "\u001b[0;31m---------------------------------------------------------------------------\u001b[0m",
      "\u001b[0;31mIndexError\u001b[0m                                Traceback (most recent call last)",
      "\u001b[0;32m<ipython-input-13-16491f5f74e2>\u001b[0m in \u001b[0;36m<module>\u001b[0;34m()\u001b[0m\n\u001b[0;32m----> 1\u001b[0;31m \u001b[0mtest\u001b[0m\u001b[0;34m[\u001b[0m\u001b[0;36m0\u001b[0m\u001b[0;34m]\u001b[0m \u001b[0;34m=\u001b[0m \u001b[0;36m1\u001b[0m\u001b[0;34m\u001b[0m\u001b[0m\n\u001b[0m",
      "\u001b[0;31mIndexError\u001b[0m: too many indices for array"
     ]
    }
   ],
   "source": [
    "test[0] = 1"
   ]
  },
  {
   "cell_type": "code",
   "execution_count": 14,
   "metadata": {},
   "outputs": [
    {
     "data": {
      "text/plain": [
       "()"
      ]
     },
     "execution_count": 14,
     "metadata": {},
     "output_type": "execute_result"
    }
   ],
   "source": [
    "test.shape"
   ]
  },
  {
   "cell_type": "code",
   "execution_count": 26,
   "metadata": {},
   "outputs": [],
   "source": [
    "features = {\"test\": [numpy.int_(5)]}\n",
    "\n",
    "stripNumpyDict(features)\n",
    "\n",
    "with open(\"test.json\", \"w\") as file:\n",
    "    json.dump(features, file)"
   ]
  },
  {
   "cell_type": "code",
   "execution_count": 14,
   "metadata": {
    "collapsed": true
   },
   "outputs": [],
   "source": [
    "sortedCosts = numpy.sort(tsp.costs[numpy.nonzero(tsp.costs)], axis=None)"
   ]
  },
  {
   "cell_type": "code",
   "execution_count": 15,
   "metadata": {},
   "outputs": [
    {
     "data": {
      "text/plain": [
       "array([  6.60180990e-01,   6.60180990e-01,   2.23623041e+00, ...,\n",
       "         9.38517244e+02,   9.38842335e+02,   9.38842335e+02])"
      ]
     },
     "execution_count": 15,
     "metadata": {},
     "output_type": "execute_result"
    }
   ],
   "source": [
    "sortedCosts"
   ]
  },
  {
   "cell_type": "code",
   "execution_count": 16,
   "metadata": {},
   "outputs": [
    {
     "data": {
      "text/plain": [
       "array([[   0.        ,  119.09645956,  169.64633859, ...,   89.76011102,\n",
       "         166.56933504,   81.6422314 ],\n",
       "       [ 119.09645956,    0.        ,  139.19177174, ...,  175.81408796,\n",
       "         270.55303015,   57.19837622],\n",
       "       [ 169.64633859,  139.19177174,    0.        , ...,  146.43591543,\n",
       "         332.82245704,  105.86886018],\n",
       "       ..., \n",
       "       [  89.76011102,  175.81408796,  146.43591543, ...,    0.        ,\n",
       "         207.5325414 ,  119.84887942],\n",
       "       [ 166.56933504,  270.55303015,  332.82245704, ...,  207.5325414 ,\n",
       "           0.        ,  246.87507296],\n",
       "       [  81.6422314 ,   57.19837622,  105.86886018, ...,  119.84887942,\n",
       "         246.87507296,    0.        ]])"
      ]
     },
     "execution_count": 16,
     "metadata": {},
     "output_type": "execute_result"
    }
   ],
   "source": [
    "tsp.costs"
   ]
  },
  {
   "cell_type": "code",
   "execution_count": 17,
   "metadata": {},
   "outputs": [
    {
     "data": {
      "text/plain": [
       "array([ 119.09645956,  169.64633859,  248.29638486, ...,  207.21526864,\n",
       "        119.84887942,  246.87507296])"
      ]
     },
     "execution_count": 17,
     "metadata": {},
     "output_type": "execute_result"
    }
   ],
   "source": [
    "tsp.costs[numpy.nonzero(tsp.costs)]"
   ]
  },
  {
   "cell_type": "code",
   "execution_count": null,
   "metadata": {
    "collapsed": true
   },
   "outputs": [],
   "source": []
  }
 ],
 "metadata": {
  "kernelspec": {
   "display_name": "Python 3",
   "language": "python",
   "name": "python3"
  },
  "language_info": {
   "codemirror_mode": {
    "name": "ipython",
    "version": 3
   },
   "file_extension": ".py",
   "mimetype": "text/x-python",
   "name": "python",
   "nbconvert_exporter": "python",
   "pygments_lexer": "ipython3",
   "version": "3.6.2"
  }
 },
 "nbformat": 4,
 "nbformat_minor": 2
}
