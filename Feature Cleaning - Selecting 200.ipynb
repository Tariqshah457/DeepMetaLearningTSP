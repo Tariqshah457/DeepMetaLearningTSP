{
 "cells": [
  {
   "cell_type": "code",
   "execution_count": 1,
   "metadata": {},
   "outputs": [],
   "source": [
    "import glob, os\n",
    "import numpy as np\n",
    "import pandas as pd\n",
    "import matplotlib.pyplot as plt\n",
    "import sys\n",
    "import json\n",
    "import traceback\n",
    "import pickle\n",
    "import solver\n",
    "%matplotlib inline"
   ]
  },
  {
   "cell_type": "code",
   "execution_count": 2,
   "metadata": {},
   "outputs": [],
   "source": [
    "def loadTSPInstances(path):\n",
    "    dataframe = None\n",
    "    frameCreated = False\n",
    "    for path in glob.glob(path + \"*.json\"):\n",
    "        try:\n",
    "            with open(path) as file:\n",
    "                jsonDf = json.load(file)\n",
    "            newFrame = pd.io.json.json_normalize(jsonDf)\n",
    "            newFrame[\"name\"] = os.path.splitext(os.path.basename(path))[0]\n",
    "                        \n",
    "            if not frameCreated:\n",
    "                dataframe = newFrame\n",
    "                frameCreated = True\n",
    "            else:\n",
    "                dataframe = pd.concat([dataframe, newFrame])\n",
    "        except:\n",
    "            traceback.print_exc()\n",
    "            \n",
    "    cols = dataframe.columns.tolist()\n",
    "    cols.remove(\"name\")\n",
    "    cols.insert(0, \"name\")\n",
    "    dataframe = dataframe[cols]\n",
    "    \n",
    "    return dataframe.reset_index().drop(\"index\", axis=1)"
   ]
  },
  {
   "cell_type": "code",
   "execution_count": 3,
   "metadata": {},
   "outputs": [],
   "source": [
    "genInstances = loadTSPInstances(\"../data/largefeatures/generated/\")"
   ]
  },
  {
   "cell_type": "code",
   "execution_count": 4,
   "metadata": {},
   "outputs": [
    {
     "data": {
      "text/plain": [
       "7640"
      ]
     },
     "execution_count": 4,
     "metadata": {},
     "output_type": "execute_result"
    }
   ],
   "source": [
    "len(genInstances)"
   ]
  },
  {
   "cell_type": "code",
   "execution_count": 4,
   "metadata": {},
   "outputs": [],
   "source": [
    "genInstances = genInstances.append(loadTSPInstances(\"../data/largefeatures2/generated/\"))"
   ]
  },
  {
   "cell_type": "code",
   "execution_count": 5,
   "metadata": {},
   "outputs": [],
   "source": [
    "genInstances[\"generated\"] = True"
   ]
  },
  {
   "cell_type": "code",
   "execution_count": 6,
   "metadata": {},
   "outputs": [
    {
     "data": {
      "text/plain": [
       "19100"
      ]
     },
     "execution_count": 6,
     "metadata": {},
     "output_type": "execute_result"
    }
   ],
   "source": [
    "len(genInstances)"
   ]
  },
  {
   "cell_type": "code",
   "execution_count": 7,
   "metadata": {},
   "outputs": [],
   "source": [
    "costValues = genInstances[[\"heuristics.tabuCosts\", \"heuristics.simulatedAnnealingCosts\", \"heuristics.graspCosts\", \"heuristics.geneticCosts\", \"heuristics.antColonyCosts\"]].values\n",
    "indexRankings = costValues.argsort()"
   ]
  },
  {
   "cell_type": "code",
   "execution_count": 9,
   "metadata": {},
   "outputs": [
    {
     "data": {
      "text/plain": [
       "Counter({'[0 1 2 3 4]': 4,\n",
       "         '[0 1 2 4 3]': 3,\n",
       "         '[0 1 4 2 3]': 1,\n",
       "         '[0 2 1 3 4]': 1,\n",
       "         '[0 2 1 4 3]': 113,\n",
       "         '[0 2 3 4 1]': 4,\n",
       "         '[0 2 4 1 3]': 1178,\n",
       "         '[0 2 4 3 1]': 32,\n",
       "         '[0 4 2 1 3]': 2,\n",
       "         '[0 4 2 3 1]': 1,\n",
       "         '[1 2 0 4 3]': 2,\n",
       "         '[1 2 3 0 4]': 2,\n",
       "         '[1 2 3 4 0]': 2,\n",
       "         '[1 2 4 0 3]': 6,\n",
       "         '[1 2 4 3 0]': 3,\n",
       "         '[1 3 2 0 4]': 1,\n",
       "         '[1 3 4 2 0]': 2,\n",
       "         '[1 4 2 3 0]': 3,\n",
       "         '[1 4 3 2 0]': 2,\n",
       "         '[2 0 1 3 4]': 7,\n",
       "         '[2 0 1 4 3]': 361,\n",
       "         '[2 0 3 1 4]': 3,\n",
       "         '[2 0 3 4 1]': 13,\n",
       "         '[2 0 4 1 3]': 6257,\n",
       "         '[2 0 4 3 1]': 371,\n",
       "         '[2 1 0 4 3]': 5,\n",
       "         '[2 1 3 4 0]': 7,\n",
       "         '[2 1 4 0 3]': 26,\n",
       "         '[2 1 4 3 0]': 15,\n",
       "         '[2 3 0 4 1]': 4,\n",
       "         '[2 3 1 4 0]': 7,\n",
       "         '[2 3 4 0 1]': 7,\n",
       "         '[2 3 4 1 0]': 22,\n",
       "         '[2 4 0 1 3]': 495,\n",
       "         '[2 4 0 3 1]': 215,\n",
       "         '[2 4 1 0 3]': 81,\n",
       "         '[2 4 1 3 0]': 130,\n",
       "         '[2 4 3 0 1]': 50,\n",
       "         '[2 4 3 1 0]': 76,\n",
       "         '[3 1 4 2 0]': 1,\n",
       "         '[3 2 4 0 1]': 2,\n",
       "         '[3 2 4 1 0]': 6,\n",
       "         '[3 4 1 2 0]': 4,\n",
       "         '[3 4 2 0 1]': 1,\n",
       "         '[3 4 2 1 0]': 9,\n",
       "         '[4 0 1 2 3]': 2,\n",
       "         '[4 0 2 1 3]': 11,\n",
       "         '[4 0 2 3 1]': 4,\n",
       "         '[4 0 3 1 2]': 1,\n",
       "         '[4 1 0 2 3]': 2,\n",
       "         '[4 1 2 0 3]': 20,\n",
       "         '[4 1 2 3 0]': 171,\n",
       "         '[4 1 3 0 2]': 1082,\n",
       "         '[4 1 3 2 0]': 6771,\n",
       "         '[4 2 0 1 3]': 43,\n",
       "         '[4 2 0 3 1]': 8,\n",
       "         '[4 2 1 0 3]': 52,\n",
       "         '[4 2 1 3 0]': 52,\n",
       "         '[4 2 3 0 1]': 7,\n",
       "         '[4 2 3 1 0]': 86,\n",
       "         '[4 3 0 2 1]': 2,\n",
       "         '[4 3 1 0 2]': 29,\n",
       "         '[4 3 1 2 0]': 1070,\n",
       "         '[4 3 2 0 1]': 15,\n",
       "         '[4 3 2 1 0]': 135})"
      ]
     },
     "execution_count": 9,
     "metadata": {},
     "output_type": "execute_result"
    }
   ],
   "source": [
    "import collections\n",
    "collections.Counter(list(map(str, indexRankings)))"
   ]
  },
  {
   "cell_type": "code",
   "execution_count": null,
   "metadata": {
    "collapsed": true
   },
   "outputs": [],
   "source": []
  }
 ],
 "metadata": {
  "kernelspec": {
   "display_name": "Python [default]",
   "language": "python",
   "name": "python3"
  },
  "language_info": {
   "codemirror_mode": {
    "name": "ipython",
    "version": 3
   },
   "file_extension": ".py",
   "mimetype": "text/x-python",
   "name": "python",
   "nbconvert_exporter": "python",
   "pygments_lexer": "ipython3",
   "version": "3.5.4"
  }
 },
 "nbformat": 4,
 "nbformat_minor": 2
}
