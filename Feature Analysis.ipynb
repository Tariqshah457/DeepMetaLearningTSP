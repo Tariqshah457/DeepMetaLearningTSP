{
 "cells": [
  {
   "cell_type": "code",
   "execution_count": 1,
   "metadata": {
    "collapsed": true
   },
   "outputs": [],
   "source": [
    "import numpy as np\n",
    "import pandas as pd"
   ]
  },
  {
   "cell_type": "code",
   "execution_count": 2,
   "metadata": {
    "collapsed": true
   },
   "outputs": [],
   "source": [
    "df = pd.read_pickle(\"../data/features/analysis.pickle\")"
   ]
  },
  {
   "cell_type": "code",
   "execution_count": 3,
   "metadata": {
    "collapsed": true
   },
   "outputs": [],
   "source": [
    "df = df.replace(np.NaN, 300)"
   ]
  },
  {
   "cell_type": "code",
   "execution_count": null,
   "metadata": {
    "collapsed": true
   },
   "outputs": [],
   "source": [
    "import re\n",
    "columnNames = list(df)\n",
    "regexTimes = re.compile(\".*Times\")\n",
    "timesColumnNames = list(filter(regexTimes.match, columnNames))\n",
    "\n",
    "sumDF = pd.DataFrame(columns=[\"Sum\", \"Values\"])\n",
    "for column in timesColumnNames:\n",
    "    newDF = pd.DataFrame([[column, df[column].sum()]], columns=[\"Sum\", \"Values\"])\n",
    "    sumDF = sumDF.append(newDF)"
   ]
  },
  {
   "cell_type": "code",
   "execution_count": null,
   "metadata": {
    "collapsed": true
   },
   "outputs": [],
   "source": [
    "sumDF = sumDF.set_index(\"Sum\")"
   ]
  },
  {
   "cell_type": "code",
   "execution_count": null,
   "metadata": {
    "collapsed": true,
    "scrolled": true
   },
   "outputs": [],
   "source": [
    "(sumDF/60/60).sort_values([\"Values\"], ascending=False)"
   ]
  },
  {
   "cell_type": "code",
   "execution_count": null,
   "metadata": {
    "collapsed": true
   },
   "outputs": [],
   "source": [
    "sumDF.sum()/60/60"
   ]
  },
  {
   "cell_type": "code",
   "execution_count": null,
   "metadata": {
    "collapsed": true
   },
   "outputs": [],
   "source": [
    "df.sort_values([\"complexFeatures.alternateClusteringCoefficientTimes\"], ascending=False)[[\"name\", \"complexFeatures.alternateClusteringCoefficientTimes\", \"complexFeatures.alternateClusteringCoefficient\"]]"
   ]
  },
  {
   "cell_type": "code",
   "execution_count": null,
   "metadata": {
    "collapsed": true
   },
   "outputs": [],
   "source": [
    "df.loc[df[\"complexFeatures.networkCyclicCoefficientTimes\"] == 300]"
   ]
  },
  {
   "cell_type": "code",
   "execution_count": null,
   "metadata": {
    "collapsed": true
   },
   "outputs": [],
   "source": [
    "sums = df[timesColumnNames].sum(axis=1)\n",
    "\n",
    "rowSumDF = pd.DataFrame(columns=[\"Name\", \"Sum\"])\n",
    "for i in range(len(sums)):\n",
    "    newDF = pd.DataFrame([[df[\"name\"][i], sums[i]]], columns=[\"Name\", \"Sum\"])\n",
    "    rowSumDF = rowSumDF.append(newDF)\n",
    "    \n",
    "rowSumDF.sort_values([\"Sum\"], ascending=False)"
   ]
  },
  {
   "cell_type": "code",
   "execution_count": 10,
   "metadata": {},
   "outputs": [
    {
     "data": {
      "text/plain": [
       "0       1.782047\n",
       "2       1.635182\n",
       "3       2.145097\n",
       "5       1.837280\n",
       "6       2.112339\n",
       "7       2.117301\n",
       "8       1.843289\n",
       "9       2.272596\n",
       "10      0.042778\n",
       "13      0.043966\n",
       "14      0.045934\n",
       "17      0.052143\n",
       "18      0.045998\n",
       "20      4.095829\n",
       "21      4.378115\n",
       "22      3.561735\n",
       "23      3.966464\n",
       "25      2.782510\n",
       "26      2.961565\n",
       "27      3.366659\n",
       "29      4.290362\n",
       "39      2.249796\n",
       "40      3.810828\n",
       "41      3.619107\n",
       "42      4.096373\n",
       "44      3.061754\n",
       "45      3.509512\n",
       "46      3.816879\n",
       "48      2.491747\n",
       "53      3.274567\n",
       "          ...   \n",
       "1578    3.536209\n",
       "1579    5.223400\n",
       "1590    3.502590\n",
       "1594    2.616002\n",
       "1596    2.146266\n",
       "1597    2.523703\n",
       "1600    0.744714\n",
       "1601    0.934128\n",
       "1607    0.964061\n",
       "1610    0.860026\n",
       "1615    0.596681\n",
       "1632    0.758052\n",
       "1636    0.777583\n",
       "1644    0.099986\n",
       "1645    0.107442\n",
       "1646    0.084865\n",
       "1647    0.113403\n",
       "1653    0.493229\n",
       "1655    0.855578\n",
       "1665    1.588883\n",
       "1666    1.879205\n",
       "1669    0.399168\n",
       "1670    5.494925\n",
       "1672    6.068929\n",
       "1673    5.521729\n",
       "1674    5.099865\n",
       "1675    6.085710\n",
       "1676    7.504324\n",
       "1678    7.299728\n",
       "1679    6.762461\n",
       "Name: heuristics.tabuTimes, Length: 690, dtype: float64"
      ]
     },
     "execution_count": 10,
     "metadata": {},
     "output_type": "execute_result"
    }
   ],
   "source": [
    "df.loc[df[\"heuristics.tabuTimes\"] < 25][\"heuristics.tabuTimes\"]"
   ]
  },
  {
   "cell_type": "code",
   "execution_count": null,
   "metadata": {
    "collapsed": true
   },
   "outputs": [],
   "source": []
  }
 ],
 "metadata": {
  "kernelspec": {
   "display_name": "Python 3",
   "language": "python",
   "name": "python3"
  },
  "language_info": {
   "codemirror_mode": {
    "name": "ipython",
    "version": 3
   },
   "file_extension": ".py",
   "mimetype": "text/x-python",
   "name": "python",
   "nbconvert_exporter": "python",
   "pygments_lexer": "ipython3",
   "version": "3.6.2"
  }
 },
 "nbformat": 4,
 "nbformat_minor": 2
}
