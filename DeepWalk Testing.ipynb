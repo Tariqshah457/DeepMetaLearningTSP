{
 "cells": [
  {
   "cell_type": "code",
   "execution_count": 1,
   "metadata": {},
   "outputs": [
    {
     "name": "stderr",
     "output_type": "stream",
     "text": [
      "/Users/adam/anaconda3/lib/python3.6/importlib/_bootstrap.py:205: RuntimeWarning: compiletime version 3.5 of module 'tensorflow.python.framework.fast_tensor_util' does not match runtime version 3.6\n",
      "  return f(*args, **kwds)\n"
     ]
    }
   ],
   "source": [
    "import glob, os, json\n",
    "import solver\n",
    "import pickle\n",
    "\n",
    "import numpy as np\n",
    "import pandas as pd\n",
    "\n",
    "import tensorflow as tf\n",
    "\n",
    "from sklearn.preprocessing import scale\n",
    "from sklearn.preprocessing import LabelEncoder\n",
    "from sklearn.preprocessing import OneHotEncoder\n",
    "from sklearn.metrics import accuracy_score\n",
    "\n",
    "import time\n",
    "import math"
   ]
  },
  {
   "cell_type": "code",
   "execution_count": 2,
   "metadata": {
    "collapsed": true
   },
   "outputs": [],
   "source": [
    "# Paths\n",
    "tspLibPath = \"../data/tsplib/tsp/\"\n",
    "generatedPath = \"../data/generated2/\""
   ]
  },
  {
   "cell_type": "code",
   "execution_count": 3,
   "metadata": {
    "collapsed": true
   },
   "outputs": [],
   "source": [
    "def loadTSPInstances(path, extension):\n",
    "    instances = []\n",
    "    for file in glob.glob(path + \"*.\" + extension):\n",
    "        try:\n",
    "            tsp = solver.loadTSPLib(file)\n",
    "            name = os.path.basename(file)\n",
    "            if not tsp:\n",
    "                print(\"Invalid file at \" + name)\n",
    "                continue\n",
    "\n",
    "            tsp.setName(name)\n",
    "            instances.append(tsp)\n",
    "        except:\n",
    "            traceback.print_exc()\n",
    "    \n",
    "    return instances\n",
    "\n",
    "def loadGeneratedInstances(path):\n",
    "    instances = []\n",
    "    for file in glob.glob(path + \"*.pytsp\"):\n",
    "        try:\n",
    "            tspFile = open(file, \"rb\")\n",
    "            tsp = pickle.load(tspFile)\n",
    "            name = os.path.basename(file)\n",
    "            \n",
    "            if not tsp:\n",
    "                print(\"Invalid file at \" + name)\n",
    "                continue\n",
    "\n",
    "            tsp.setName(name)\n",
    "            instances.append(tsp)\n",
    "            tspFile.close()\n",
    "        except:\n",
    "            traceback.print_exc()\n",
    "            \n",
    "    return instances"
   ]
  },
  {
   "cell_type": "code",
   "execution_count": 4,
   "metadata": {
    "collapsed": true
   },
   "outputs": [],
   "source": [
    "# Load all problem instances\n",
    "# tspLibInstances = loadTSPInstances(tspLibPath, \"tsp\")\n",
    "tspLibInstances = []\n",
    "generatedInstances = loadGeneratedInstances(generatedPath)"
   ]
  },
  {
   "cell_type": "code",
   "execution_count": 5,
   "metadata": {},
   "outputs": [
    {
     "ename": "NameError",
     "evalue": "name 'costs' is not defined",
     "output_type": "error",
     "traceback": [
      "\u001b[0;31m---------------------------------------------------------------------------\u001b[0m",
      "\u001b[0;31mNameError\u001b[0m                                 Traceback (most recent call last)",
      "\u001b[0;32m<ipython-input-5-433738bd29f3>\u001b[0m in \u001b[0;36m<module>\u001b[0;34m()\u001b[0m\n\u001b[1;32m      3\u001b[0m \u001b[0mf\u001b[0m \u001b[0;34m=\u001b[0m \u001b[0mopen\u001b[0m\u001b[0;34m(\u001b[0m\u001b[0;34m\"test.adj\"\u001b[0m\u001b[0;34m,\u001b[0m \u001b[0;34m\"w\"\u001b[0m\u001b[0;34m)\u001b[0m\u001b[0;34m\u001b[0m\u001b[0m\n\u001b[1;32m      4\u001b[0m \u001b[0;34m\u001b[0m\u001b[0m\n\u001b[0;32m----> 5\u001b[0;31m \u001b[0;32mfor\u001b[0m \u001b[0mrow\u001b[0m\u001b[0;34m,\u001b[0m \u001b[0mrowArray\u001b[0m \u001b[0;32min\u001b[0m \u001b[0menumerate\u001b[0m\u001b[0;34m(\u001b[0m\u001b[0mcosts\u001b[0m\u001b[0;34m)\u001b[0m\u001b[0;34m:\u001b[0m\u001b[0;34m\u001b[0m\u001b[0m\n\u001b[0m\u001b[1;32m      6\u001b[0m     \u001b[0mline\u001b[0m \u001b[0;34m=\u001b[0m \u001b[0mstr\u001b[0m\u001b[0;34m(\u001b[0m\u001b[0mrow\u001b[0m \u001b[0;34m+\u001b[0m \u001b[0;36m1\u001b[0m\u001b[0;34m)\u001b[0m\u001b[0;34m\u001b[0m\u001b[0m\n\u001b[1;32m      7\u001b[0m     \u001b[0;32mfor\u001b[0m \u001b[0mcol\u001b[0m\u001b[0;34m,\u001b[0m \u001b[0mcolValue\u001b[0m \u001b[0;32min\u001b[0m \u001b[0menumerate\u001b[0m\u001b[0;34m(\u001b[0m\u001b[0mrowArray\u001b[0m\u001b[0;34m)\u001b[0m\u001b[0;34m:\u001b[0m\u001b[0;34m\u001b[0m\u001b[0m\n",
      "\u001b[0;31mNameError\u001b[0m: name 'costs' is not defined"
     ]
    }
   ],
   "source": [
    "# adjacency = np.zeros(shape=costs.shape, dtype=np.bool)\n",
    "\n",
    "f = open(\"test.adj\", \"w\")\n",
    "\n",
    "for row, rowArray in enumerate(costs):\n",
    "    line = str(row + 1)\n",
    "    for col, colValue in enumerate(rowArray):\n",
    "        if colValue > 0:\n",
    "            line += \" \" + str(col + 1)\n",
    "            \n",
    "    f.write(line + \"\\n\")\n",
    "        \n",
    "f.close()"
   ]
  },
  {
   "cell_type": "code",
   "execution_count": 6,
   "metadata": {
    "collapsed": true
   },
   "outputs": [],
   "source": [
    "savedFiles = []\n",
    "\n",
    "def weightedEdges(instance, path):\n",
    "    fullPath = path + instance.getName() + \".wel\"\n",
    "    f = open(fullPath, \"w\")\n",
    "    \n",
    "    savedFiles.append(fullPath)\n",
    "    \n",
    "    costs = instance.costs\n",
    "\n",
    "    for row, rowArray in enumerate(costs):\n",
    "        for col, colValue in enumerate(rowArray):\n",
    "            if colValue > 0:\n",
    "                line = str(row + 1)\n",
    "                line += \" \" + str(col + 1)\n",
    "                line += \" \" + str(colValue)\n",
    "\n",
    "                f.write(line + \"\\n\")\n",
    "\n",
    "    f.close()"
   ]
  },
  {
   "cell_type": "code",
   "execution_count": 7,
   "metadata": {
    "collapsed": true
   },
   "outputs": [],
   "source": [
    "combinedInstances = tspLibInstances + generatedInstances\n",
    "usedInstances = []\n",
    "\n",
    "for instance in combinedInstances:\n",
    "    if instance.isAsymmetric():\n",
    "        continue\n",
    "        \n",
    "    usedInstances.append(instance)\n",
    "        \n",
    "    weightedEdges(instance, \"../data/edges/\")"
   ]
  },
  {
   "cell_type": "code",
   "execution_count": 8,
   "metadata": {
    "collapsed": true
   },
   "outputs": [],
   "source": [
    "from subprocess import call\n",
    "\n",
    "for i in range(len(savedFiles)):\n",
    "    inputFile = savedFiles[i]\n",
    "    instance = usedInstances[i]\n",
    "    \n",
    "    result = call([\"deepwalk\", \"--input\", inputFile, \"--format\", \"weighted_edgelist\", \"--output\", \"../data/deepwalk/\" + instance.getName() + \".deep\"])\n",
    "    \n",
    "    if result != 0:\n",
    "        print(\"Result %d for instance %s\" % (result, instance.getName()))"
   ]
  },
  {
   "cell_type": "code",
   "execution_count": 9,
   "metadata": {},
   "outputs": [
    {
     "data": {
      "text/plain": [
       "'../data/edges/pr439.tsp.wel'"
      ]
     },
     "execution_count": 9,
     "metadata": {},
     "output_type": "execute_result"
    }
   ],
   "source": [
    "savedFiles[0]"
   ]
  },
  {
   "cell_type": "code",
   "execution_count": 9,
   "metadata": {},
   "outputs": [
    {
     "data": {
      "text/plain": [
       "498"
      ]
     },
     "execution_count": 9,
     "metadata": {},
     "output_type": "execute_result"
    }
   ],
   "source": [
    "len(savedFiles)"
   ]
  },
  {
   "cell_type": "code",
   "execution_count": 10,
   "metadata": {},
   "outputs": [
    {
     "data": {
      "text/plain": [
       "498"
      ]
     },
     "execution_count": 10,
     "metadata": {},
     "output_type": "execute_result"
    }
   ],
   "source": [
    "len(combinedInstances)"
   ]
  },
  {
   "cell_type": "code",
   "execution_count": null,
   "metadata": {
    "collapsed": true
   },
   "outputs": [],
   "source": []
  }
 ],
 "metadata": {
  "kernelspec": {
   "display_name": "Python 3",
   "language": "python",
   "name": "python3"
  },
  "language_info": {
   "codemirror_mode": {
    "name": "ipython",
    "version": 3
   },
   "file_extension": ".py",
   "mimetype": "text/x-python",
   "name": "python",
   "nbconvert_exporter": "python",
   "pygments_lexer": "ipython3",
   "version": "3.6.2"
  }
 },
 "nbformat": 4,
 "nbformat_minor": 2
}
