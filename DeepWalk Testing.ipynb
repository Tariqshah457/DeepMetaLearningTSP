{
 "cells": [
  {
   "cell_type": "code",
   "execution_count": 46,
   "metadata": {},
   "outputs": [],
   "source": [
    "import glob, os, json\n",
    "import solver\n",
    "import pickle\n",
    "\n",
    "import numpy as np\n",
    "import pandas as pd\n",
    "\n",
    "import tensorflow as tf\n",
    "\n",
    "from sklearn.preprocessing import scale\n",
    "from sklearn.preprocessing import LabelEncoder\n",
    "from sklearn.preprocessing import OneHotEncoder\n",
    "from sklearn.metrics import accuracy_score\n",
    "\n",
    "import time\n",
    "import math"
   ]
  },
  {
   "cell_type": "code",
   "execution_count": 43,
   "metadata": {
    "collapsed": true
   },
   "outputs": [],
   "source": [
    "# Paths\n",
    "tspLibPath = \"../data/tsplib/tsp/\"\n",
    "generatedPath = \"../data/generated/\""
   ]
  },
  {
   "cell_type": "code",
   "execution_count": 44,
   "metadata": {},
   "outputs": [],
   "source": [
    "def loadTSPInstances(path, extension):\n",
    "    instances = []\n",
    "    for file in glob.glob(path + \"*.\" + extension):\n",
    "        try:\n",
    "            tsp = solver.loadTSPLib(file)\n",
    "            name = os.path.basename(file)\n",
    "            if not tsp:\n",
    "                print(\"Invalid file at \" + name)\n",
    "                continue\n",
    "\n",
    "            tsp.setName(name)\n",
    "            instances.append(tsp)\n",
    "        except:\n",
    "            traceback.print_exc()\n",
    "    \n",
    "    return instances\n",
    "\n",
    "def loadGeneratedInstances(path):\n",
    "    instances = []\n",
    "    for file in glob.glob(path + \"*.pytsp\"):\n",
    "        try:\n",
    "            tspFile = open(file, \"rb\")\n",
    "            tsp = pickle.load(tspFile)\n",
    "            name = os.path.basename(file)\n",
    "            \n",
    "            if not tsp:\n",
    "                print(\"Invalid file at \" + name)\n",
    "                continue\n",
    "\n",
    "            tsp.setName(name)\n",
    "            instances.append(tsp)\n",
    "            tspFile.close()\n",
    "        except:\n",
    "            traceback.print_exc()\n",
    "            \n",
    "    return instances"
   ]
  },
  {
   "cell_type": "code",
   "execution_count": 47,
   "metadata": {},
   "outputs": [],
   "source": [
    "# Load all problem instances\n",
    "tspLibInstances = loadTSPInstances(tspLibPath, \"tsp\")\n",
    "generatedInstances = loadGeneratedInstances(generatedPath)"
   ]
  },
  {
   "cell_type": "code",
   "execution_count": 21,
   "metadata": {},
   "outputs": [],
   "source": [
    "# adjacency = np.zeros(shape=costs.shape, dtype=np.bool)\n",
    "\n",
    "f = open(\"test.adj\", \"w\")\n",
    "\n",
    "for row, rowArray in enumerate(costs):\n",
    "    line = str(row + 1)\n",
    "    for col, colValue in enumerate(rowArray):\n",
    "        if colValue > 0:\n",
    "            line += \" \" + str(col + 1)\n",
    "            \n",
    "    f.write(line + \"\\n\")\n",
    "        \n",
    "f.close()"
   ]
  },
  {
   "cell_type": "code",
   "execution_count": 48,
   "metadata": {},
   "outputs": [],
   "source": [
    "def weightedEdges(instance, path):\n",
    "    f = open(path + instance.getName() + \".wel\", \"w\")\n",
    "    \n",
    "    costs = instance.costs\n",
    "\n",
    "    for row, rowArray in enumerate(costs):\n",
    "        for col, colValue in enumerate(rowArray):\n",
    "            if colValue > 0:\n",
    "                line = str(row + 1)\n",
    "                line += \" \" + str(col + 1)\n",
    "                line += \" \" + str(colValue)\n",
    "\n",
    "                f.write(line + \"\\n\")\n",
    "\n",
    "    f.close()"
   ]
  },
  {
   "cell_type": "code",
   "execution_count": 50,
   "metadata": {},
   "outputs": [],
   "source": [
    "for instance in tspLibInstances + generatedInstances:\n",
    "    if instance.isAsymmetric():\n",
    "        continue\n",
    "        \n",
    "    weightedEdges(instance, \"../data/edges/\")"
   ]
  },
  {
   "cell_type": "code",
   "execution_count": null,
   "metadata": {
    "collapsed": true
   },
   "outputs": [],
   "source": []
  }
 ],
 "metadata": {
  "kernelspec": {
   "display_name": "Python 3",
   "language": "python",
   "name": "python3"
  },
  "language_info": {
   "codemirror_mode": {
    "name": "ipython",
    "version": 3
   },
   "file_extension": ".py",
   "mimetype": "text/x-python",
   "name": "python",
   "nbconvert_exporter": "python",
   "pygments_lexer": "ipython3",
   "version": "3.6.2"
  }
 },
 "nbformat": 4,
 "nbformat_minor": 2
}
