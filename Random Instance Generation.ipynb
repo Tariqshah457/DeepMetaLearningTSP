{
 "cells": [
  {
   "cell_type": "code",
   "execution_count": 1,
   "metadata": {
    "collapsed": true
   },
   "outputs": [],
   "source": [
    "import pickle\n",
    "from solver.generator import Generator"
   ]
  },
  {
   "cell_type": "code",
   "execution_count": 2,
   "metadata": {
    "collapsed": true
   },
   "outputs": [],
   "source": [
    "generator = Generator()\n",
    "def generateInstances(name, path, symmetric, startSize, endSize, stepSize, instancesPerSize, connectedChance):\n",
    "    for size in range(startSize, endSize + 1, stepSize):\n",
    "        for i in range(instancesPerSize):\n",
    "            method = generator.generateAsymmetric\n",
    "            if symmetric:\n",
    "                method = generator.generateSymmetric\n",
    "            tsp = method(size, connectedChance)\n",
    "            \n",
    "            fileObject = open(path + name + str(size) + chr(ord(\"a\") + i) + \".pytsp\", \"wb\")\n",
    "            pickle.dump(tsp, fileObject)\n",
    "            fileObject.close()"
   ]
  },
  {
   "cell_type": "code",
   "execution_count": 3,
   "metadata": {
    "collapsed": true
   },
   "outputs": [],
   "source": [
    "generateInstances(\"Complete\", \"../data/generated/\", True, 10, 200, 1, 1, 1.0)"
   ]
  },
  {
   "cell_type": "code",
   "execution_count": 4,
   "metadata": {
    "collapsed": true
   },
   "outputs": [],
   "source": [
    "generateInstances(\"Connected85\", \"../data/generated/\", True, 10, 200, 1, 1, .85)"
   ]
  },
  {
   "cell_type": "code",
   "execution_count": 5,
   "metadata": {},
   "outputs": [],
   "source": [
    "generateInstances(\"CompleteAsym\", \"../data/generated/\", False, 10, 200, 1, 1, 1.0)"
   ]
  },
  {
   "cell_type": "code",
   "execution_count": 6,
   "metadata": {
    "collapsed": true
   },
   "outputs": [],
   "source": [
    "generateInstances(\"Connected85Asym\", \"../data/generated/\", False, 10, 200, 1, 1, .85)"
   ]
  }
 ],
 "metadata": {
  "kernelspec": {
   "display_name": "Python 3",
   "language": "python",
   "name": "python3"
  },
  "language_info": {
   "codemirror_mode": {
    "name": "ipython",
    "version": 3
   },
   "file_extension": ".py",
   "mimetype": "text/x-python",
   "name": "python",
   "nbconvert_exporter": "python",
   "pygments_lexer": "ipython3",
   "version": "3.6.2"
  }
 },
 "nbformat": 4,
 "nbformat_minor": 2
}
