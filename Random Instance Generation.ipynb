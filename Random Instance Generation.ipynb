{
 "cells": [
  {
   "cell_type": "code",
   "execution_count": 5,
   "metadata": {
    "collapsed": true
   },
   "outputs": [],
   "source": [
    "import pickle\n",
    "from solver.generator import Generator\n",
    "import solver"
   ]
  },
  {
   "cell_type": "code",
   "execution_count": 2,
   "metadata": {
    "collapsed": true
   },
   "outputs": [],
   "source": [
    "from functools import wraps\n",
    "import errno\n",
    "import os\n",
    "import signal\n",
    "\n",
    "class timeout:\n",
    "    def __init__(self, seconds=1, error_message='Timeout'):\n",
    "        self.seconds = seconds\n",
    "        self.error_message = error_message\n",
    "    def handle_timeout(self, signum, frame):\n",
    "        raise TimeoutError(self.error_message)\n",
    "    def __enter__(self):\n",
    "        signal.signal(signal.SIGALRM, self.handle_timeout)\n",
    "        signal.alarm(self.seconds)\n",
    "    def __exit__(self, type, value, traceback):\n",
    "        signal.alarm(0)"
   ]
  },
  {
   "cell_type": "code",
   "execution_count": 3,
   "metadata": {
    "collapsed": true
   },
   "outputs": [],
   "source": [
    "def testInstance(tsp):\n",
    "    with timeout(error_message=tsp.getName(), seconds=1):\n",
    "        solver.utilities.generateInitialSolution(tsp)"
   ]
  },
  {
   "cell_type": "code",
   "execution_count": 4,
   "metadata": {
    "collapsed": true
   },
   "outputs": [],
   "source": [
    "generator = Generator()\n",
    "def createInstance(size, i, name, path, symmetric, connectedChance):\n",
    "    method = generator.generateAsymmetric\n",
    "    if symmetric:\n",
    "        method = generator.generateSymmetric\n",
    "    tsp = method(size, connectedChance)\n",
    "\n",
    "    fileObject = open(path + name + str(size) + chr(ord(\"a\") + i) + \".pytsp\", \"wb\")\n",
    "    pickle.dump(tsp, fileObject)\n",
    "    fileObject.close()\n",
    "    \n",
    "    try:\n",
    "        testInstance(tsp)\n",
    "    except Exception as e:\n",
    "        print(e)\n",
    "        createInstance(size, i, name, path, symmetric, connectedChance)\n",
    "\n",
    "def generateInstances(name, path, symmetric, startSize, endSize, stepSize, instancesPerSize, connectedChance):\n",
    "    for size in range(startSize, endSize + 1, stepSize):\n",
    "        for i in range(instancesPerSize):\n",
    "            createInstance(size, i, name, path, symmetric, connectedChance)\n"
   ]
  },
  {
   "cell_type": "code",
   "execution_count": 6,
   "metadata": {},
   "outputs": [],
   "source": [
    "generateInstances(\"Complete\", \"../data/generated4/\", True, 10, 200, 1, 3, 1.0)"
   ]
  },
  {
   "cell_type": "code",
   "execution_count": null,
   "metadata": {},
   "outputs": [],
   "source": [
    "generateInstances(\"Connected85\", \"../data/generated4/\", True, 13, 200, 5, 3, .85)"
   ]
  },
  {
   "cell_type": "code",
   "execution_count": 6,
   "metadata": {
    "collapsed": true
   },
   "outputs": [],
   "source": [
    "generateInstances(\"Connected60\", \"../data/generated4/\", True, 13, 200, 5, 3, .6)"
   ]
  },
  {
   "cell_type": "code",
   "execution_count": 7,
   "metadata": {
    "collapsed": true
   },
   "outputs": [],
   "source": [
    "generateInstances(\"CompleteAsym\", \"../data/generated4/\", False, 10, 200, 1, 3, 1.0)"
   ]
  },
  {
   "cell_type": "code",
   "execution_count": 4,
   "metadata": {
    "collapsed": true
   },
   "outputs": [],
   "source": [
    "generateInstances(\"Connected85Asym\", \"../data/generated4/\", False, 13, 200, 5, 3, .85)"
   ]
  },
  {
   "cell_type": "code",
   "execution_count": 5,
   "metadata": {
    "collapsed": true
   },
   "outputs": [],
   "source": [
    "generateInstances(\"Connected60Asym\", \"../data/generated4/\", False, 13, 200, 5, 3, .6)"
   ]
  },
  {
   "cell_type": "code",
   "execution_count": null,
   "metadata": {
    "collapsed": true
   },
   "outputs": [],
   "source": []
  }
 ],
 "metadata": {
  "anaconda-cloud": {},
  "kernelspec": {
   "display_name": "Python [default]",
   "language": "python",
   "name": "python3"
  },
  "language_info": {
   "codemirror_mode": {
    "name": "ipython",
    "version": 3
   },
   "file_extension": ".py",
   "mimetype": "text/x-python",
   "name": "python",
   "nbconvert_exporter": "python",
   "pygments_lexer": "ipython3",
   "version": "3.5.4"
  }
 },
 "nbformat": 4,
 "nbformat_minor": 2
}
