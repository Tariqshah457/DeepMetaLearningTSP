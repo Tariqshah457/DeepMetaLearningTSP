{
 "cells": [
  {
   "cell_type": "code",
   "execution_count": 1,
   "metadata": {},
   "outputs": [],
   "source": [
    "import glob, os, json\n",
    "import solver\n",
    "import pickle\n",
    "\n",
    "import numpy as np\n",
    "import pandas as pd\n",
    "\n",
    "import tensorflow as tf\n",
    "\n",
    "from sklearn.preprocessing import scale\n",
    "from sklearn.preprocessing import LabelEncoder\n",
    "from sklearn.preprocessing import OneHotEncoder\n",
    "from sklearn.metrics import accuracy_score\n",
    "\n",
    "import time\n",
    "import math"
   ]
  },
  {
   "cell_type": "code",
   "execution_count": 2,
   "metadata": {},
   "outputs": [],
   "source": [
    "# Paths\n",
    "tspLibPath = \"../data/tsplib/tsp/\"\n",
    "atspLibPath = \"../data/tsplib/atsp/\"\n",
    "generatedPath = \"../data/largegen/\""
   ]
  },
  {
   "cell_type": "code",
   "execution_count": 3,
   "metadata": {},
   "outputs": [],
   "source": [
    "def loadTSPInstances(path, extension):\n",
    "    instances = []\n",
    "    for file in glob.glob(path + \"*.\" + extension):\n",
    "        try:\n",
    "            tsp = solver.loadTSPLib(file)\n",
    "            name = os.path.basename(file)\n",
    "            if not tsp:\n",
    "                print(\"Invalid file at \" + name)\n",
    "                continue\n",
    "\n",
    "            tsp.setName(name)\n",
    "            instances.append(tsp)\n",
    "        except:\n",
    "            traceback.print_exc()\n",
    "    \n",
    "    return instances\n",
    "\n",
    "def loadGeneratedInstances(path):\n",
    "    instances = []\n",
    "    for file in glob.glob(path + \"*.pytsp\"):\n",
    "        try:\n",
    "            tspFile = open(file, \"rb\")\n",
    "            tsp = pickle.load(tspFile)\n",
    "            name = os.path.basename(file)\n",
    "            \n",
    "            if not tsp:\n",
    "                print(\"Invalid file at \" + name)\n",
    "                continue\n",
    "\n",
    "            tsp.setName(name)\n",
    "            instances.append(tsp)\n",
    "            tspFile.close()\n",
    "        except:\n",
    "            traceback.print_exc()\n",
    "            \n",
    "    return instances"
   ]
  },
  {
   "cell_type": "code",
   "execution_count": 4,
   "metadata": {},
   "outputs": [],
   "source": [
    "# Load all problem instances\n",
    "tspLibInstances = loadTSPInstances(tspLibPath, \"tsp\")\n",
    "tspLibInstances += loadTSPInstances(atspLibPath, \"atsp\")\n",
    "# tspLibInstances = []\n",
    "# generatedInstances = loadGeneratedInstances(generatedPath)\n",
    "# instancesFile = open(\"../data/large200.instances\", \"rb\")\n",
    "# generatedInstances = pickle.load(instancesFile)\n",
    "# instancesFile.close()\n",
    "generatedInstances = []"
   ]
  },
  {
   "cell_type": "code",
   "execution_count": 5,
   "metadata": {},
   "outputs": [
    {
     "data": {
      "text/plain": [
       "83"
      ]
     },
     "execution_count": 5,
     "metadata": {},
     "output_type": "execute_result"
    }
   ],
   "source": [
    "len(tspLibInstances)"
   ]
  },
  {
   "cell_type": "code",
   "execution_count": 6,
   "metadata": {},
   "outputs": [
    {
     "data": {
      "text/plain": [
       "0"
      ]
     },
     "execution_count": 6,
     "metadata": {},
     "output_type": "execute_result"
    }
   ],
   "source": [
    "len(generatedInstances)"
   ]
  },
  {
   "cell_type": "code",
   "execution_count": 7,
   "metadata": {},
   "outputs": [],
   "source": [
    "savedFiles = []\n",
    "\n",
    "def weightedEdges(instance, path):\n",
    "    fullPath = path + instance.getName() + \".wel\"\n",
    "    f = open(fullPath, \"w\")\n",
    "    \n",
    "    savedFiles.append(fullPath)\n",
    "    \n",
    "    costs = instance.costs\n",
    "\n",
    "    for row, rowArray in enumerate(costs):\n",
    "        for col, colValue in enumerate(rowArray):\n",
    "            if colValue > 0:\n",
    "                line = str(row + 1)\n",
    "                line += \" \" + str(col + 1)\n",
    "                line += \" \" + str(colValue)\n",
    "\n",
    "                f.write(line + \"\\n\")\n",
    "\n",
    "    f.close()"
   ]
  },
  {
   "cell_type": "code",
   "execution_count": 8,
   "metadata": {},
   "outputs": [],
   "source": [
    "combinedInstances = tspLibInstances + generatedInstances\n",
    "usedInstances = []\n",
    "\n",
    "for instance in combinedInstances:\n",
    "#     if instance.isAsymmetric():\n",
    "#         continue\n",
    "        \n",
    "    usedInstances.append(instance)\n",
    "        \n",
    "    weightedEdges(instance, \"../data/edges/\")"
   ]
  },
  {
   "cell_type": "code",
   "execution_count": 9,
   "metadata": {},
   "outputs": [],
   "source": [
    "from subprocess import call\n",
    "\n",
    "for i in range(len(savedFiles)):\n",
    "    inputFile = savedFiles[i]\n",
    "    instance = usedInstances[i]\n",
    "    \n",
    "    result = call([\"/home/gastinad/.local/bin/deepwalk\", \"--input\", inputFile, \"--format\", \"weighted_edgelist\", \"--output\", \"../data/deep300/\" + instance.getName() + \".deep\", \"--representation-size\", \"300\"])\n",
    "    \n",
    "    if result != 0:\n",
    "        print(\"Result %d for instance %s\" % (result, instance.getName()))"
   ]
  },
  {
   "cell_type": "code",
   "execution_count": 9,
   "metadata": {},
   "outputs": [
    {
     "data": {
      "text/plain": [
       "'../data/edges/pr439.tsp.wel'"
      ]
     },
     "execution_count": 9,
     "metadata": {},
     "output_type": "execute_result"
    }
   ],
   "source": [
    "savedFiles[0]"
   ]
  },
  {
   "cell_type": "code",
   "execution_count": 9,
   "metadata": {},
   "outputs": [
    {
     "data": {
      "text/plain": [
       "498"
      ]
     },
     "execution_count": 9,
     "metadata": {},
     "output_type": "execute_result"
    }
   ],
   "source": [
    "len(savedFiles)"
   ]
  },
  {
   "cell_type": "code",
   "execution_count": 10,
   "metadata": {},
   "outputs": [
    {
     "data": {
      "text/plain": [
       "498"
      ]
     },
     "execution_count": 10,
     "metadata": {},
     "output_type": "execute_result"
    }
   ],
   "source": [
    "len(combinedInstances)"
   ]
  },
  {
   "cell_type": "code",
   "execution_count": 12,
   "metadata": {},
   "outputs": [
    {
     "data": {
      "text/plain": [
       "0"
      ]
     },
     "execution_count": 12,
     "metadata": {},
     "output_type": "execute_result"
    }
   ],
   "source": [
    "from subprocess import call\n",
    "\n",
    "call([\"/home/gastinad/.local/bin/deepwalk\", \"--input\", savedFiles[0], \"--format\", \"weighted_edgelist\", \"--output\", \"../data/deep300/\" + usedInstances[0].getName() + \".deep\", \"--representation-size\", \"300\"])"
   ]
  },
  {
   "cell_type": "code",
   "execution_count": null,
   "metadata": {},
   "outputs": [],
   "source": []
  },
  {
   "cell_type": "code",
   "execution_count": null,
   "metadata": {},
   "outputs": [],
   "source": []
  },
  {
   "cell_type": "code",
   "execution_count": 3,
   "metadata": {},
   "outputs": [],
   "source": [
    "df = pd.read_pickle(\"../data/largefeatures/deep128large200noscaleReshaped.pickle\")"
   ]
  },
  {
   "cell_type": "code",
   "execution_count": 4,
   "metadata": {},
   "outputs": [],
   "source": [
    "# Select all generated instances (and ignore TSPLib)\n",
    "df = df.loc[df[\"generated\"] == True]"
   ]
  },
  {
   "cell_type": "code",
   "execution_count": 5,
   "metadata": {},
   "outputs": [],
   "source": [
    "def loadGeneratedInstance(name, path):\n",
    "    tspFile = open(path + \"/\" + name + \".pytsp\", \"rb\")\n",
    "    tsp = pickle.load(tspFile)\n",
    "#     name = os.path.basename(file)\n",
    "\n",
    "    if not tsp:\n",
    "        print(\"Invalid file at \" + name)\n",
    "        return None\n",
    "\n",
    "    tsp.setName(name)\n",
    "    tspFile.close()\n",
    "    \n",
    "    return tsp"
   ]
  },
  {
   "cell_type": "code",
   "execution_count": 6,
   "metadata": {},
   "outputs": [],
   "source": [
    "generatedPathA = \"../data/largegen\"\n",
    "generatedPathB = \"../data/largegen2\""
   ]
  },
  {
   "cell_type": "code",
   "execution_count": 7,
   "metadata": {},
   "outputs": [],
   "source": [
    "instances = []\n",
    "\n",
    "for name in df[\"name\"]:\n",
    "    path = generatedPathB\n",
    "    \n",
    "    if name.endswith(\"a\"):\n",
    "        path = generatedPathA\n",
    "        \n",
    "    instance = loadGeneratedInstance(name[:-1], path)\n",
    "    instance.setName(name)\n",
    "        \n",
    "    instances.append(instance)"
   ]
  },
  {
   "cell_type": "code",
   "execution_count": 13,
   "metadata": {},
   "outputs": [
    {
     "data": {
      "text/plain": [
       "2818"
      ]
     },
     "execution_count": 13,
     "metadata": {},
     "output_type": "execute_result"
    }
   ],
   "source": [
    "len(instances)"
   ]
  },
  {
   "cell_type": "code",
   "execution_count": 9,
   "metadata": {},
   "outputs": [],
   "source": [
    "generatedInstances = instances\n",
    "tspLibInstances = []"
   ]
  },
  {
   "cell_type": "code",
   "execution_count": 14,
   "metadata": {},
   "outputs": [
    {
     "data": {
      "text/plain": [
       "1724"
      ]
     },
     "execution_count": 14,
     "metadata": {},
     "output_type": "execute_result"
    }
   ],
   "source": [
    "len(savedFiles)"
   ]
  },
  {
   "cell_type": "code",
   "execution_count": null,
   "metadata": {},
   "outputs": [],
   "source": []
  }
 ],
 "metadata": {
  "anaconda-cloud": {},
  "kernelspec": {
   "display_name": "Python [default]",
   "language": "python",
   "name": "python3"
  },
  "language_info": {
   "codemirror_mode": {
    "name": "ipython",
    "version": 3
   },
   "file_extension": ".py",
   "mimetype": "text/x-python",
   "name": "python",
   "nbconvert_exporter": "python",
   "pygments_lexer": "ipython3",
   "version": "3.5.4"
  }
 },
 "nbformat": 4,
 "nbformat_minor": 2
}
