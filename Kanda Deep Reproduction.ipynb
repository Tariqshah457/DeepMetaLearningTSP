{
 "cells": [
  {
   "cell_type": "code",
   "execution_count": 1,
   "metadata": {},
   "outputs": [],
   "source": [
    "import numpy as np\n",
    "import pandas as pd\n",
    "\n",
    "import tensorflow as tf\n",
    "\n",
    "from sklearn.preprocessing import scale\n",
    "from sklearn.preprocessing import LabelEncoder\n",
    "from sklearn.preprocessing import OneHotEncoder\n",
    "from sklearn.metrics import accuracy_score\n",
    "\n",
    "import time\n",
    "import math"
   ]
  },
  {
   "cell_type": "code",
   "execution_count": null,
   "metadata": {},
   "outputs": [],
   "source": [
    "os.environ[\"CUDA_VISIBLE_DEVICES\"]=\"2\""
   ]
  },
  {
   "cell_type": "code",
   "execution_count": 2,
   "metadata": {},
   "outputs": [],
   "source": [
    "df = pd.read_pickle(\"../data/large200analysis.pickle\")"
   ]
  },
  {
   "cell_type": "code",
   "execution_count": 3,
   "metadata": {},
   "outputs": [],
   "source": [
    "# Drop NA columns\n",
    "df = df.drop(\"complexFeatures.entropyDegreeDistribution\", axis=1)\n",
    "df = df.drop(\"complexFeatures.vertexParticipationCoefficient\", axis=1)"
   ]
  },
  {
   "cell_type": "code",
   "execution_count": 4,
   "metadata": {},
   "outputs": [],
   "source": [
    "import re\n",
    "columnNames = list(df)\n",
    "regexTimes = re.compile(\".*Times\")\n",
    "timesColumnNames = list(filter(regexTimes.match, columnNames))\n",
    "for column in timesColumnNames:\n",
    "    columnNames.remove(column)\n",
    "    \n",
    "regexCosts = re.compile(\"heuristics.*Costs\")\n",
    "costsColumnNames = list(filter(regexCosts.match, columnNames))\n",
    "for column in costsColumnNames:\n",
    "    columnNames.remove(column)\n",
    "    \n",
    "columnNames.remove(\"generated\")\n",
    "columnNames.remove(\"deepWalk\")\n",
    "columnNames.remove(\"sequenceLength\")\n",
    "columnNames.remove(\"costs\")"
   ]
  },
  {
   "cell_type": "code",
   "execution_count": 5,
   "metadata": {},
   "outputs": [
    {
     "name": "stdout",
     "output_type": "stream",
     "text": [
      "Dropped 0 rows due to None values\n"
     ]
    }
   ],
   "source": [
    "# Drop rows with NA\n",
    "rowsBefore = df.shape[0]\n",
    "df = df.dropna()\n",
    "print(\"Dropped %d rows due to None values\" % (rowsBefore - df.shape[0]))\n",
    "\n",
    "minCostIndices = df[[\"heuristics.tabuCosts\", \"heuristics.simulatedAnnealingCosts\", \"heuristics.graspCosts\", \"heuristics.geneticCosts\", \"heuristics.antColonyCosts\"]].idxmin(axis=1)\n",
    "\n",
    "# Remove all *Times columns\n",
    "df = df[columnNames]\n",
    "\n",
    "# Remove name column\n",
    "df = df.drop([\"name\"], axis=1)"
   ]
  },
  {
   "cell_type": "code",
   "execution_count": 7,
   "metadata": {},
   "outputs": [
    {
     "name": "stderr",
     "output_type": "stream",
     "text": [
      "/home/gastinad/.local/lib/python3.6/site-packages/sklearn/preprocessing/data.py:164: UserWarning: Numerical issues were encountered when centering the data and might not be solved. Dataset may contain too large values. You may need to prescale your features.\n",
      "  warnings.warn(\"Numerical issues were encountered \"\n"
     ]
    }
   ],
   "source": [
    "intLabels = LabelEncoder().fit_transform(minCostIndices).reshape(-1, 1)\n",
    "# 5 values for 5 different heuristics\n",
    "outputs = OneHotEncoder(sparse=False, n_values=5).fit_transform(intLabels)\n",
    "\n",
    "inputs = scale(df.astype('float64'),axis=1)\n",
    "\n",
    "size = df.shape[0]\n",
    "# Test data is separated in cleaning stage\n",
    "trainSize = int(size * 0.75)\n",
    "validSize = size - trainSize\n",
    "\n",
    "inputsTrain = inputs[0:trainSize]\n",
    "outputsTrain = outputs[0:trainSize]\n",
    "intLabelsTrain = intLabels[0:trainSize]\n",
    "\n",
    "inputsValid = inputs[trainSize:]\n",
    "outputsValid = outputs[trainSize:]\n",
    "intLabelsValid = intLabels[trainSize:]"
   ]
  },
  {
   "cell_type": "code",
   "execution_count": 8,
   "metadata": {},
   "outputs": [
    {
     "data": {
      "text/plain": [
       "(3523, 38)"
      ]
     },
     "execution_count": 8,
     "metadata": {},
     "output_type": "execute_result"
    }
   ],
   "source": [
    "inputsValid.shape"
   ]
  },
  {
   "cell_type": "code",
   "execution_count": 33,
   "metadata": {},
   "outputs": [
    {
     "data": {
      "text/plain": [
       "array([[ 0.,  0.,  1.,  0.,  0.],\n",
       "       [ 0.,  0.,  1.,  0.,  0.],\n",
       "       [ 0.,  0.,  1.,  0.,  0.],\n",
       "       ..., \n",
       "       [ 0.,  0.,  1.,  0.,  0.],\n",
       "       [ 0.,  0.,  0.,  0.,  1.],\n",
       "       [ 0.,  0.,  0.,  0.,  1.]])"
      ]
     },
     "execution_count": 33,
     "metadata": {},
     "output_type": "execute_result"
    }
   ],
   "source": [
    "outputsTrain"
   ]
  },
  {
   "cell_type": "code",
   "execution_count": 46,
   "metadata": {},
   "outputs": [],
   "source": [
    "EPOCHS = 1000\n",
    "\n",
    "N1 = trainSize\n",
    "FEATURE_COUNT = df.shape[1]\n",
    "LABEL_COUNT = 5\n",
    "\n",
    "NODES1 = 512\n",
    "NODES2 = 256\n",
    "\n",
    "ALPHA = 0.08\n",
    "\n",
    "BATCH_SIZE = 30\n",
    "\n",
    "STD = 0.1\n",
    "\n",
    "LEARNING_RATE = 0.001"
   ]
  },
  {
   "cell_type": "code",
   "execution_count": 47,
   "metadata": {},
   "outputs": [],
   "source": [
    "# Define the input function for training\n",
    "inputFunc = tf.estimator.inputs.numpy_input_fn(\n",
    "    x={\"input\": inputsTrain.astype(np.float32)}, y=outputsTrain.astype(np.float32),\n",
    "#     batch_size=BATCH_SIZE, num_epochs=EPOCHS, shuffle=True)\n",
    "    num_epochs=EPOCHS, shuffle=True)"
   ]
  },
  {
   "cell_type": "code",
   "execution_count": 48,
   "metadata": {},
   "outputs": [],
   "source": [
    "# Define the neural network\n",
    "def network(xDict):\n",
    "    x = xDict[\"input\"]\n",
    "        \n",
    "    regularizer = tf.contrib.layers.l2_regularizer(scale=ALPHA)\n",
    "    \n",
    "    layer1 = tf.layers.dense(x, NODES1, kernel_regularizer=regularizer, activation=tf.nn.relu)\n",
    "    \n",
    "    layer2 = tf.layers.dense(layer1, NODES2, activation=tf.nn.relu)\n",
    "    # Output fully connected layer with a neuron for each class\n",
    "    outLayer = tf.layers.dense(layer2, LABEL_COUNT)\n",
    "    return outLayer"
   ]
  },
  {
   "cell_type": "code",
   "execution_count": 57,
   "metadata": {},
   "outputs": [],
   "source": [
    "# Define the model function (following TF Estimator Template)\n",
    "def modelFunc(features, labels, mode):\n",
    "    # Build the neural network\n",
    "    logits = network(features)\n",
    "    \n",
    "#     resizedLogits = tf.reshape(logits, shape=[-1, MAX_SIZE * MAX_SIZE, 1])\n",
    "    \n",
    "    # Predictions\n",
    "    # TODO: Possibly need to change\n",
    "#     pred_classes = logits\n",
    "    pred_classes = tf.argmax(logits, axis=1)\n",
    "    pred_probas = tf.nn.softmax(logits)\n",
    "#     pred_probas = tf.nn.sigmoid(logits)\n",
    "    \n",
    "    # If prediction mode, early return\n",
    "    if mode == tf.estimator.ModeKeys.PREDICT:\n",
    "        return tf.estimator.EstimatorSpec(mode, predictions=pred_classes)\n",
    "    \n",
    "    # Define loss and optimizer\n",
    "    loss_op = tf.reduce_mean(tf.nn.softmax_cross_entropy_with_logits(\n",
    "        logits=logits, labels=tf.cast(labels, dtype=tf.int32)))\n",
    "    optimizer = tf.contrib.opt.NadamOptimizer(learning_rate=LEARNING_RATE)\n",
    "    train_op = optimizer.minimize(loss_op, global_step=tf.train.get_global_step())\n",
    "    \n",
    "    # Evaluate the accuracy of the model\n",
    "    acc_op = tf.metrics.accuracy(labels=tf.argmax(labels, axis=1), predictions=pred_classes)\n",
    "#     acc_op = tf.metrics.accuracy(labels=labels, predictions=pred_classes)\n",
    "    \n",
    "    # TF Estimators requires to return a EstimatorSpec, that specify\n",
    "    # the different ops for training, evaluating, ...\n",
    "    estim_specs = tf.estimator.EstimatorSpec(\n",
    "      mode=mode,\n",
    "      predictions=pred_classes,\n",
    "      loss=loss_op,\n",
    "      train_op=train_op,\n",
    "      eval_metric_ops={'accuracy': acc_op})\n",
    "\n",
    "    return estim_specs"
   ]
  },
  {
   "cell_type": "code",
   "execution_count": 58,
   "metadata": {},
   "outputs": [
    {
     "name": "stdout",
     "output_type": "stream",
     "text": [
      "WARNING:tensorflow:Using temporary folder as model directory: /tmp/tmpevdyhp3_\n",
      "INFO:tensorflow:Using config: {'_task_type': None, '_task_id': 0, '_cluster_spec': <tensorflow.python.training.server_lib.ClusterSpec object at 0x7f66506231d0>, '_master': '', '_num_ps_replicas': 0, '_num_worker_replicas': 0, '_environment': 'local', '_is_chief': True, '_evaluation_master': '', '_tf_config': gpu_options {\n",
      "  per_process_gpu_memory_fraction: 1.0\n",
      "}\n",
      ", '_tf_random_seed': None, '_save_summary_steps': 10000, '_save_checkpoints_secs': 600, '_log_step_count_steps': 10000, '_session_config': , '_save_checkpoints_steps': None, '_keep_checkpoint_max': 5, '_keep_checkpoint_every_n_hours': 10000, '_model_dir': '/tmp/tmpevdyhp3_'}\n"
     ]
    }
   ],
   "source": [
    "# Build the Estimator\n",
    "config = tf.ConfigProto()\n",
    "# config.gpu_options.per_process_gpu_memory_fraction = 0.8\n",
    "model = tf.estimator.Estimator(modelFunc, config=tf.contrib.learn.RunConfig(session_config=config, save_summary_steps=10000, log_step_count_steps=10000))"
   ]
  },
  {
   "cell_type": "code",
   "execution_count": 59,
   "metadata": {},
   "outputs": [],
   "source": [
    "trainResults = []\n",
    "validResults = []"
   ]
  },
  {
   "cell_type": "code",
   "execution_count": 60,
   "metadata": {},
   "outputs": [
    {
     "name": "stdout",
     "output_type": "stream",
     "text": [
      "INFO:tensorflow:Create CheckpointSaverHook.\n",
      "INFO:tensorflow:Saving checkpoints for 1 into /tmp/tmpevdyhp3_/model.ckpt.\n",
      "INFO:tensorflow:loss = 1.7661, step = 1\n",
      "INFO:tensorflow:loss = 1.05966, step = 101 (0.296 sec)\n",
      "INFO:tensorflow:loss = 1.08522, step = 201 (0.260 sec)\n",
      "INFO:tensorflow:loss = 1.0894, step = 301 (0.283 sec)\n",
      "INFO:tensorflow:loss = 1.03391, step = 401 (0.282 sec)\n",
      "INFO:tensorflow:loss = 1.13668, step = 501 (0.256 sec)\n",
      "INFO:tensorflow:loss = 1.08396, step = 601 (0.273 sec)\n",
      "INFO:tensorflow:loss = 0.965325, step = 701 (0.293 sec)\n",
      "INFO:tensorflow:loss = 1.0104, step = 801 (0.281 sec)\n",
      "INFO:tensorflow:loss = 0.981573, step = 901 (0.272 sec)\n",
      "INFO:tensorflow:loss = 0.98376, step = 1001 (0.283 sec)\n",
      "INFO:tensorflow:loss = 0.940531, step = 1101 (0.265 sec)\n",
      "INFO:tensorflow:loss = 1.02575, step = 1201 (0.267 sec)\n",
      "INFO:tensorflow:loss = 1.11168, step = 1301 (0.259 sec)\n",
      "INFO:tensorflow:loss = 1.05623, step = 1401 (0.276 sec)\n",
      "INFO:tensorflow:loss = 1.01421, step = 1501 (0.242 sec)\n",
      "INFO:tensorflow:loss = 1.16061, step = 1601 (0.253 sec)\n",
      "INFO:tensorflow:loss = 1.00924, step = 1701 (0.259 sec)\n",
      "INFO:tensorflow:loss = 1.01986, step = 1801 (0.248 sec)\n",
      "INFO:tensorflow:loss = 1.03941, step = 1901 (0.257 sec)\n",
      "INFO:tensorflow:loss = 1.0279, step = 2001 (0.263 sec)\n",
      "INFO:tensorflow:loss = 0.956997, step = 2101 (0.260 sec)\n",
      "INFO:tensorflow:loss = 1.06873, step = 2201 (0.279 sec)\n",
      "INFO:tensorflow:loss = 0.979532, step = 2301 (0.282 sec)\n",
      "INFO:tensorflow:loss = 0.956978, step = 2401 (0.271 sec)\n",
      "INFO:tensorflow:loss = 1.00185, step = 2501 (0.296 sec)\n",
      "INFO:tensorflow:loss = 1.03436, step = 2601 (0.273 sec)\n",
      "INFO:tensorflow:loss = 1.025, step = 2701 (0.269 sec)\n",
      "INFO:tensorflow:loss = 0.968313, step = 2801 (0.258 sec)\n",
      "INFO:tensorflow:loss = 0.98419, step = 2901 (0.266 sec)\n",
      "INFO:tensorflow:loss = 0.988655, step = 3001 (0.269 sec)\n",
      "INFO:tensorflow:loss = 1.1207, step = 3101 (0.258 sec)\n",
      "INFO:tensorflow:loss = 1.06448, step = 3201 (0.267 sec)\n",
      "INFO:tensorflow:loss = 0.986628, step = 3301 (0.266 sec)\n",
      "INFO:tensorflow:loss = 0.997205, step = 3401 (0.279 sec)\n",
      "INFO:tensorflow:loss = 1.04446, step = 3501 (0.282 sec)\n",
      "INFO:tensorflow:loss = 1.08895, step = 3601 (0.275 sec)\n",
      "INFO:tensorflow:loss = 0.999754, step = 3701 (0.260 sec)\n",
      "INFO:tensorflow:loss = 0.981945, step = 3801 (0.279 sec)\n",
      "INFO:tensorflow:loss = 0.963918, step = 3901 (0.290 sec)\n",
      "INFO:tensorflow:loss = 1.21655, step = 4001 (0.272 sec)\n",
      "INFO:tensorflow:loss = 1.06778, step = 4101 (0.273 sec)\n",
      "INFO:tensorflow:loss = 0.980443, step = 4201 (0.256 sec)\n",
      "INFO:tensorflow:loss = 1.01751, step = 4301 (0.264 sec)\n",
      "INFO:tensorflow:loss = 1.01626, step = 4401 (0.258 sec)\n",
      "INFO:tensorflow:loss = 1.11408, step = 4501 (0.269 sec)\n",
      "INFO:tensorflow:loss = 1.10184, step = 4601 (0.249 sec)\n",
      "INFO:tensorflow:loss = 1.00379, step = 4701 (0.258 sec)\n",
      "INFO:tensorflow:loss = 1.00048, step = 4801 (0.249 sec)\n",
      "INFO:tensorflow:loss = 1.04613, step = 4901 (0.262 sec)\n",
      "INFO:tensorflow:loss = 1.02422, step = 5001 (0.258 sec)\n",
      "INFO:tensorflow:loss = 1.06815, step = 5101 (0.252 sec)\n",
      "INFO:tensorflow:loss = 1.04359, step = 5201 (0.270 sec)\n",
      "INFO:tensorflow:loss = 1.08913, step = 5301 (0.275 sec)\n",
      "INFO:tensorflow:loss = 1.03036, step = 5401 (0.257 sec)\n",
      "INFO:tensorflow:loss = 1.10707, step = 5501 (0.251 sec)\n",
      "INFO:tensorflow:loss = 0.965428, step = 5601 (0.269 sec)\n",
      "INFO:tensorflow:loss = 0.940747, step = 5701 (0.269 sec)\n",
      "INFO:tensorflow:loss = 0.941661, step = 5801 (0.282 sec)\n",
      "INFO:tensorflow:loss = 1.03007, step = 5901 (0.276 sec)\n",
      "INFO:tensorflow:loss = 1.0562, step = 6001 (0.276 sec)\n",
      "INFO:tensorflow:loss = 1.00042, step = 6101 (0.274 sec)\n",
      "INFO:tensorflow:loss = 1.03493, step = 6201 (0.265 sec)\n",
      "INFO:tensorflow:loss = 1.08346, step = 6301 (0.262 sec)\n",
      "INFO:tensorflow:loss = 1.14244, step = 6401 (0.271 sec)\n",
      "INFO:tensorflow:loss = 1.03243, step = 6501 (0.255 sec)\n",
      "INFO:tensorflow:loss = 1.11132, step = 6601 (0.264 sec)\n",
      "INFO:tensorflow:loss = 1.0466, step = 6701 (0.242 sec)\n",
      "INFO:tensorflow:loss = 0.992774, step = 6801 (0.262 sec)\n",
      "INFO:tensorflow:loss = 1.06481, step = 6901 (0.276 sec)\n",
      "INFO:tensorflow:loss = 0.969274, step = 7001 (0.289 sec)\n",
      "INFO:tensorflow:loss = 1.06975, step = 7101 (0.282 sec)\n",
      "INFO:tensorflow:loss = 0.982585, step = 7201 (0.278 sec)\n",
      "INFO:tensorflow:loss = 0.96278, step = 7301 (0.265 sec)\n",
      "INFO:tensorflow:loss = 1.01472, step = 7401 (0.280 sec)\n",
      "INFO:tensorflow:loss = 1.03212, step = 7501 (0.272 sec)\n",
      "INFO:tensorflow:loss = 1.01765, step = 7601 (0.264 sec)\n",
      "INFO:tensorflow:loss = 1.04419, step = 7701 (0.266 sec)\n",
      "INFO:tensorflow:loss = 0.999334, step = 7801 (0.271 sec)\n",
      "INFO:tensorflow:loss = 1.02523, step = 7901 (0.255 sec)\n",
      "INFO:tensorflow:loss = 1.03209, step = 8001 (0.232 sec)\n",
      "INFO:tensorflow:loss = 0.972168, step = 8101 (0.259 sec)\n",
      "INFO:tensorflow:loss = 0.980001, step = 8201 (0.221 sec)\n",
      "INFO:tensorflow:loss = 1.10627, step = 8301 (0.250 sec)\n",
      "INFO:tensorflow:loss = 0.917899, step = 8401 (0.272 sec)\n",
      "INFO:tensorflow:loss = 0.993785, step = 8501 (0.257 sec)\n",
      "INFO:tensorflow:loss = 1.12396, step = 8601 (0.256 sec)\n",
      "INFO:tensorflow:loss = 1.08467, step = 8701 (0.270 sec)\n",
      "INFO:tensorflow:loss = 1.03846, step = 8801 (0.280 sec)\n",
      "INFO:tensorflow:loss = 1.07093, step = 8901 (0.284 sec)\n",
      "INFO:tensorflow:loss = 1.02231, step = 9001 (0.296 sec)\n",
      "INFO:tensorflow:loss = 1.0539, step = 9101 (0.280 sec)\n",
      "INFO:tensorflow:loss = 1.00097, step = 9201 (0.262 sec)\n",
      "INFO:tensorflow:loss = 1.10194, step = 9301 (0.276 sec)\n",
      "INFO:tensorflow:loss = 0.944907, step = 9401 (0.257 sec)\n",
      "INFO:tensorflow:loss = 0.97882, step = 9501 (0.266 sec)\n",
      "INFO:tensorflow:loss = 0.927804, step = 9601 (0.282 sec)\n",
      "INFO:tensorflow:loss = 1.09307, step = 9701 (0.285 sec)\n",
      "INFO:tensorflow:loss = 1.09557, step = 9801 (0.302 sec)\n",
      "INFO:tensorflow:loss = 1.03605, step = 9901 (0.292 sec)\n",
      "INFO:tensorflow:Saving checkpoints for 10000 into /tmp/tmpevdyhp3_/model.ckpt.\n",
      "INFO:tensorflow:Loss for final step: 0.991378.\n",
      "Evaluating Train\n",
      "INFO:tensorflow:Starting evaluation at 2018-05-06-18:09:05\n",
      "INFO:tensorflow:Restoring parameters from /tmp/tmpevdyhp3_/model.ckpt-10000\n",
      "INFO:tensorflow:Finished evaluation at 2018-05-06-18:09:05\n",
      "INFO:tensorflow:Saving dict for global step 10000: accuracy = 0.482635, global_step = 10000, loss = 1.03482\n",
      "Evaluating Valid\n",
      "INFO:tensorflow:Starting evaluation at 2018-05-06-18:09:06\n",
      "INFO:tensorflow:Restoring parameters from /tmp/tmpevdyhp3_/model.ckpt-10000\n",
      "INFO:tensorflow:Finished evaluation at 2018-05-06-18:09:06\n",
      "INFO:tensorflow:Saving dict for global step 10000: accuracy = 0.452739, global_step = 10000, loss = 1.04418\n"
     ]
    }
   ],
   "source": [
    "trainFunc = tf.estimator.inputs.numpy_input_fn(\n",
    "    x={\"input\": inputsTrain.astype(np.float32)}, y=outputsTrain.astype(np.float32),\n",
    "    batch_size=BATCH_SIZE, shuffle=False)\n",
    "\n",
    "validFunc = tf.estimator.inputs.numpy_input_fn(\n",
    "    x={\"input\": inputsValid.astype(np.float32)}, y=outputsValid.astype(np.float32),\n",
    "    batch_size=BATCH_SIZE, shuffle=False)\n",
    "\n",
    "# for i in range(0, 100):\n",
    "model.train(inputFunc, steps=10000)\n",
    "\n",
    "print(\"Evaluating Train\")\n",
    "accuracy = model.evaluate(trainFunc)\n",
    "trainResults.append(accuracy)\n",
    "\n",
    "print(\"Evaluating Valid\")\n",
    "accuracy = model.evaluate(validFunc)\n",
    "validResults.append(accuracy)"
   ]
  },
  {
   "cell_type": "code",
   "execution_count": null,
   "metadata": {
    "collapsed": true
   },
   "outputs": [],
   "source": []
  }
 ],
 "metadata": {
  "kernelspec": {
   "display_name": "Python 3",
   "language": "python",
   "name": "python3"
  },
  "language_info": {
   "codemirror_mode": {
    "name": "ipython",
    "version": 3
   },
   "file_extension": ".py",
   "mimetype": "text/x-python",
   "name": "python",
   "nbconvert_exporter": "python",
   "pygments_lexer": "ipython3",
   "version": "3.6.3"
  }
 },
 "nbformat": 4,
 "nbformat_minor": 2
}
