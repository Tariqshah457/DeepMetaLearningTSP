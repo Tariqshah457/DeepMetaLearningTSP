{
 "cells": [
  {
   "cell_type": "code",
   "execution_count": 1,
   "metadata": {
    "collapsed": true
   },
   "outputs": [],
   "source": [
    "import glob, os\n",
    "import numpy as np\n",
    "import pandas as pd\n",
    "import matplotlib.pyplot as plt\n",
    "import sys\n",
    "import json\n",
    "import traceback\n",
    "%matplotlib inline"
   ]
  },
  {
   "cell_type": "code",
   "execution_count": 2,
   "metadata": {
    "collapsed": true
   },
   "outputs": [],
   "source": [
    "def loadTSPInstances(path):\n",
    "    dataframe = None\n",
    "    frameCreated = False\n",
    "    for path in glob.glob(path + \"*.json\"):\n",
    "        try:\n",
    "            with open(path) as file:\n",
    "                jsonDf = json.load(file)\n",
    "            newFrame = pd.io.json.json_normalize(jsonDf)\n",
    "            newFrame[\"name\"] = os.path.splitext(os.path.basename(path))[0]\n",
    "                        \n",
    "            if not frameCreated:\n",
    "                dataframe = newFrame\n",
    "                frameCreated = True\n",
    "            else:\n",
    "                dataframe = pd.concat([dataframe, newFrame])\n",
    "        except:\n",
    "            traceback.print_exc()\n",
    "            \n",
    "    cols = dataframe.columns.tolist()\n",
    "    cols.remove(\"name\")\n",
    "    cols.insert(0, \"name\")\n",
    "    dataframe = dataframe[cols]\n",
    "    \n",
    "    return dataframe.reset_index().drop(\"index\", axis=1)"
   ]
  },
  {
   "cell_type": "code",
   "execution_count": 3,
   "metadata": {},
   "outputs": [],
   "source": [
    "instances = loadTSPInstances(\"../data/features/tsplib/\")\n",
    "# Remove unnecessary tours\n",
    "instances = instances.drop([\"heuristics.simulatedAnnealingValues\", \"heuristics.graspValues\", \"heuristics.tabuValues\", \"heuristics.antColonyValues\", \"heuristics.geneticValues\"], axis=1)\n",
    "# Replace all -1 values with None\n",
    "instances = instances.where(instances != -1, None)\n",
    "\n",
    "# Remove due to bug in creation\n",
    "instances = instances.loc[instances[\"name\"] != \"pr2392\"]"
   ]
  },
  {
   "cell_type": "code",
   "execution_count": 4,
   "metadata": {
    "collapsed": true
   },
   "outputs": [],
   "source": [
    "import re\n",
    "columnNames = list(instances)\n",
    "regexTimes = re.compile(\".*Times\")\n",
    "timesColumnNames = list(filter(regexTimes.match, columnNames))\n",
    "\n",
    "regexValues = re.compile(\".*Values\")\n",
    "valuesColumnNames = list(filter(regexValues.match, columnNames))"
   ]
  },
  {
   "cell_type": "code",
   "execution_count": 5,
   "metadata": {
    "collapsed": true
   },
   "outputs": [],
   "source": [
    "# From https://stackoverflow.com/a/40449726\n",
    "def explode(df, lst_cols, fill_value=''):\n",
    "    # make sure `lst_cols` is a list\n",
    "    if lst_cols and not isinstance(lst_cols, list):\n",
    "        lst_cols = [lst_cols]\n",
    "    # all columns except `lst_cols`\n",
    "    idx_cols = df.columns.difference(lst_cols)\n",
    "\n",
    "    # calculate lengths of lists\n",
    "    lens = df[lst_cols[0]].str.len()\n",
    "\n",
    "    if (lens > 0).all():\n",
    "        # ALL lists in cells aren't empty\n",
    "        return pd.DataFrame({\n",
    "            col:np.repeat(df[col].values, df[lst_cols[0]].str.len())\n",
    "            for col in idx_cols\n",
    "        }).assign(**{col:np.concatenate(df[col].values) for col in lst_cols}) \\\n",
    "          .loc[:, df.columns]\n",
    "    else:\n",
    "        # at least one list in cells is empty\n",
    "        return pd.DataFrame({\n",
    "            col:np.repeat(df[col].values, df[lst_cols[0]].str.len())\n",
    "            for col in idx_cols\n",
    "        }).assign(**{col:np.concatenate(df[col].values) for col in lst_cols}) \\\n",
    "          .append(df.loc[lens==0, idx_cols]).fillna(fill_value) \\\n",
    "          .loc[:, df.columns]"
   ]
  },
  {
   "cell_type": "code",
   "execution_count": 6,
   "metadata": {},
   "outputs": [],
   "source": [
    "timesColumns = list(timesColumnNames)\n",
    "timesColumns.remove(\"heldKarpTimes\")\n",
    "instances = explode(instances, timesColumns + valuesColumnNames)\n",
    "\n",
    "operationTimes = instances.filter(regex=\"Times\")\n",
    "operationValues = instances.filter(regex=\"Values\")"
   ]
  },
  {
   "cell_type": "code",
   "execution_count": 7,
   "metadata": {
    "collapsed": true
   },
   "outputs": [],
   "source": [
    "# Convert columns to numeric\n",
    "newInstances = pd.DataFrame()\n",
    "for column in list(instances):\n",
    "    if column != \"name\":\n",
    "        numericColumn = instances[column].apply(pd.to_numeric, errors=\"coerce\")\n",
    "    else:\n",
    "        numericColumn = instances[column]\n",
    "    newInstances = pd.concat([newInstances, numericColumn], axis=1)\n",
    "instances = newInstances"
   ]
  },
  {
   "cell_type": "code",
   "execution_count": 8,
   "metadata": {},
   "outputs": [],
   "source": [
    "# Group by name and compute means\n",
    "group = instances.groupby([\"name\"])\n",
    "averagedInstances = pd.DataFrame()\n",
    "for column in list(instances):\n",
    "    if column == \"name\":\n",
    "        continue\n",
    "    try:\n",
    "        groupedMean = pd.DataFrame(group[column].mean())\n",
    "        averagedInstances = pd.concat([averagedInstances, groupedMean], axis=1)\n",
    "    except:\n",
    "        pass"
   ]
  },
  {
   "cell_type": "code",
   "execution_count": 9,
   "metadata": {},
   "outputs": [],
   "source": [
    "averagedInstances.to_pickle(\"../data/features/analysis.pickle\")"
   ]
  },
  {
   "cell_type": "code",
   "execution_count": null,
   "metadata": {
    "collapsed": true
   },
   "outputs": [],
   "source": []
  }
 ],
 "metadata": {
  "kernelspec": {
   "display_name": "Python 3",
   "language": "python",
   "name": "python3"
  },
  "language_info": {
   "codemirror_mode": {
    "name": "ipython",
    "version": 3
   },
   "file_extension": ".py",
   "mimetype": "text/x-python",
   "name": "python",
   "nbconvert_exporter": "python",
   "pygments_lexer": "ipython3",
   "version": "3.6.2"
  }
 },
 "nbformat": 4,
 "nbformat_minor": 2
}
